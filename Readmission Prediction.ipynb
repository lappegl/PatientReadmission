{
 "cells": [
  {
   "cell_type": "markdown",
   "metadata": {},
   "source": [
    "# Early Patient Readmission\n",
    "\n",
    "Garrett Lappe\n",
    "\n",
    "garrett.l.lappe@gmail.com"
   ]
  },
  {
   "cell_type": "markdown",
   "metadata": {},
   "source": [
    "# Part One - EDA"
   ]
  },
  {
   "cell_type": "code",
   "execution_count": 1,
   "metadata": {},
   "outputs": [],
   "source": [
    "import pandas as pd\n",
    "import numpy as np\n",
    "import gc"
   ]
  },
  {
   "cell_type": "code",
   "execution_count": 2,
   "metadata": {},
   "outputs": [],
   "source": [
    "data_dir = 'data\\\\'\n",
    "\n",
    "na_values = ['?','null','unknown', 'Unknown/Invalid', 'NULL', '']\n",
    "\n",
    "data = pd.read_csv(data_dir + 'diabetes_data.csv', dtype=object, na_values=na_values)\n",
    "data.drop_duplicates(inplace=True)"
   ]
  },
  {
   "cell_type": "code",
   "execution_count": 6,
   "metadata": {},
   "outputs": [
    {
     "data": {
      "text/html": [
       "<div>\n",
       "<style scoped>\n",
       "    .dataframe tbody tr th:only-of-type {\n",
       "        vertical-align: middle;\n",
       "    }\n",
       "\n",
       "    .dataframe tbody tr th {\n",
       "        vertical-align: top;\n",
       "    }\n",
       "\n",
       "    .dataframe thead th {\n",
       "        text-align: right;\n",
       "    }\n",
       "</style>\n",
       "<table border=\"1\" class=\"dataframe\">\n",
       "  <thead>\n",
       "    <tr style=\"text-align: right;\">\n",
       "      <th></th>\n",
       "      <th>encounter_id</th>\n",
       "      <th>patient_nbr</th>\n",
       "      <th>race</th>\n",
       "      <th>gender</th>\n",
       "      <th>weight</th>\n",
       "      <th>admission_type_id</th>\n",
       "      <th>discharge_disposition_id</th>\n",
       "      <th>admission_source_id</th>\n",
       "      <th>time_in_hospital</th>\n",
       "      <th>payer_code</th>\n",
       "      <th>...</th>\n",
       "      <th>glyburide-metformin</th>\n",
       "      <th>glipizide-metformin</th>\n",
       "      <th>glimepiride-pioglitazone</th>\n",
       "      <th>metformin-rosiglitazone</th>\n",
       "      <th>metformin-pioglitazone</th>\n",
       "      <th>change</th>\n",
       "      <th>diabetesMed</th>\n",
       "      <th>readmitted</th>\n",
       "      <th>admit_date</th>\n",
       "      <th>birth_date</th>\n",
       "    </tr>\n",
       "  </thead>\n",
       "  <tbody>\n",
       "    <tr>\n",
       "      <td>0</td>\n",
       "      <td>2278392</td>\n",
       "      <td>8222157</td>\n",
       "      <td>Caucasian</td>\n",
       "      <td>Female</td>\n",
       "      <td>NaN</td>\n",
       "      <td>6</td>\n",
       "      <td>25</td>\n",
       "      <td>1</td>\n",
       "      <td>1</td>\n",
       "      <td>NaN</td>\n",
       "      <td>...</td>\n",
       "      <td>No</td>\n",
       "      <td>No</td>\n",
       "      <td>No</td>\n",
       "      <td>No</td>\n",
       "      <td>No</td>\n",
       "      <td>No</td>\n",
       "      <td>No</td>\n",
       "      <td>NO</td>\n",
       "      <td>2002-10-22 06:30:00</td>\n",
       "      <td>1996-07-29 14:28:00</td>\n",
       "    </tr>\n",
       "    <tr>\n",
       "      <td>1</td>\n",
       "      <td>149190</td>\n",
       "      <td>55629189</td>\n",
       "      <td>Caucasian</td>\n",
       "      <td>Female</td>\n",
       "      <td>NaN</td>\n",
       "      <td>1</td>\n",
       "      <td>1</td>\n",
       "      <td>7</td>\n",
       "      <td>3</td>\n",
       "      <td>NaN</td>\n",
       "      <td>...</td>\n",
       "      <td>No</td>\n",
       "      <td>No</td>\n",
       "      <td>No</td>\n",
       "      <td>No</td>\n",
       "      <td>No</td>\n",
       "      <td>Ch</td>\n",
       "      <td>Yes</td>\n",
       "      <td>&gt;30</td>\n",
       "      <td>2004-07-24 08:35:00</td>\n",
       "      <td>1985-09-19 11:19:00</td>\n",
       "    </tr>\n",
       "    <tr>\n",
       "      <td>2</td>\n",
       "      <td>64410</td>\n",
       "      <td>86047875</td>\n",
       "      <td>AfricanAmerican</td>\n",
       "      <td>Female</td>\n",
       "      <td>NaN</td>\n",
       "      <td>1</td>\n",
       "      <td>1</td>\n",
       "      <td>7</td>\n",
       "      <td>2</td>\n",
       "      <td>NaN</td>\n",
       "      <td>...</td>\n",
       "      <td>No</td>\n",
       "      <td>No</td>\n",
       "      <td>No</td>\n",
       "      <td>No</td>\n",
       "      <td>No</td>\n",
       "      <td>No</td>\n",
       "      <td>Yes</td>\n",
       "      <td>NO</td>\n",
       "      <td>2005-11-30 06:35:00</td>\n",
       "      <td>1983-07-14 07:22:00</td>\n",
       "    </tr>\n",
       "    <tr>\n",
       "      <td>3</td>\n",
       "      <td>500364</td>\n",
       "      <td>82442376</td>\n",
       "      <td>Caucasian</td>\n",
       "      <td>Male</td>\n",
       "      <td>NaN</td>\n",
       "      <td>1</td>\n",
       "      <td>1</td>\n",
       "      <td>7</td>\n",
       "      <td>2</td>\n",
       "      <td>NaN</td>\n",
       "      <td>...</td>\n",
       "      <td>No</td>\n",
       "      <td>No</td>\n",
       "      <td>No</td>\n",
       "      <td>No</td>\n",
       "      <td>No</td>\n",
       "      <td>Ch</td>\n",
       "      <td>Yes</td>\n",
       "      <td>NO</td>\n",
       "      <td>2003-05-26 00:32:00</td>\n",
       "      <td>1968-04-05 23:51:00</td>\n",
       "    </tr>\n",
       "    <tr>\n",
       "      <td>4</td>\n",
       "      <td>16680</td>\n",
       "      <td>42519267</td>\n",
       "      <td>Caucasian</td>\n",
       "      <td>Male</td>\n",
       "      <td>NaN</td>\n",
       "      <td>1</td>\n",
       "      <td>1</td>\n",
       "      <td>7</td>\n",
       "      <td>1</td>\n",
       "      <td>NaN</td>\n",
       "      <td>...</td>\n",
       "      <td>No</td>\n",
       "      <td>No</td>\n",
       "      <td>No</td>\n",
       "      <td>No</td>\n",
       "      <td>No</td>\n",
       "      <td>Ch</td>\n",
       "      <td>Yes</td>\n",
       "      <td>NO</td>\n",
       "      <td>2004-04-25 04:04:00</td>\n",
       "      <td>1957-11-18 20:30:00</td>\n",
       "    </tr>\n",
       "  </tbody>\n",
       "</table>\n",
       "<p>5 rows × 50 columns</p>\n",
       "</div>"
      ],
      "text/plain": [
       "  encounter_id patient_nbr             race  gender weight admission_type_id  \\\n",
       "0      2278392     8222157        Caucasian  Female    NaN                 6   \n",
       "1       149190    55629189        Caucasian  Female    NaN                 1   \n",
       "2        64410    86047875  AfricanAmerican  Female    NaN                 1   \n",
       "3       500364    82442376        Caucasian    Male    NaN                 1   \n",
       "4        16680    42519267        Caucasian    Male    NaN                 1   \n",
       "\n",
       "  discharge_disposition_id admission_source_id time_in_hospital payer_code  \\\n",
       "0                       25                   1                1        NaN   \n",
       "1                        1                   7                3        NaN   \n",
       "2                        1                   7                2        NaN   \n",
       "3                        1                   7                2        NaN   \n",
       "4                        1                   7                1        NaN   \n",
       "\n",
       "   ... glyburide-metformin glipizide-metformin glimepiride-pioglitazone  \\\n",
       "0  ...                  No                  No                       No   \n",
       "1  ...                  No                  No                       No   \n",
       "2  ...                  No                  No                       No   \n",
       "3  ...                  No                  No                       No   \n",
       "4  ...                  No                  No                       No   \n",
       "\n",
       "  metformin-rosiglitazone metformin-pioglitazone change diabetesMed  \\\n",
       "0                      No                     No     No          No   \n",
       "1                      No                     No     Ch         Yes   \n",
       "2                      No                     No     No         Yes   \n",
       "3                      No                     No     Ch         Yes   \n",
       "4                      No                     No     Ch         Yes   \n",
       "\n",
       "  readmitted           admit_date           birth_date  \n",
       "0         NO  2002-10-22 06:30:00  1996-07-29 14:28:00  \n",
       "1        >30  2004-07-24 08:35:00  1985-09-19 11:19:00  \n",
       "2         NO  2005-11-30 06:35:00  1983-07-14 07:22:00  \n",
       "3         NO  2003-05-26 00:32:00  1968-04-05 23:51:00  \n",
       "4         NO  2004-04-25 04:04:00  1957-11-18 20:30:00  \n",
       "\n",
       "[5 rows x 50 columns]"
      ]
     },
     "execution_count": 6,
     "metadata": {},
     "output_type": "execute_result"
    }
   ],
   "source": [
    "data.head()"
   ]
  },
  {
   "cell_type": "code",
   "execution_count": 174,
   "metadata": {},
   "outputs": [
    {
     "data": {
      "text/plain": [
       "encounter_id                        object\n",
       "patient_nbr                         object\n",
       "race                                object\n",
       "gender                              object\n",
       "weight                              object\n",
       "time_in_hospital                    object\n",
       "payer_code                          object\n",
       "medical_specialty                   object\n",
       "num_lab_procedures                  object\n",
       "num_procedures                      object\n",
       "num_medications                     object\n",
       "number_outpatient                   object\n",
       "number_emergency                    object\n",
       "diag_1                              object\n",
       "diag_2                              object\n",
       "diag_3                              object\n",
       "number_diagnoses                    object\n",
       "max_glu_serum                       object\n",
       "A1Cresult                           object\n",
       "metformin                           object\n",
       "repaglinide                         object\n",
       "nateglinide                         object\n",
       "chlorpropamide                      object\n",
       "glimepiride                         object\n",
       "acetohexamide                       object\n",
       "glipizide                           object\n",
       "glyburide                           object\n",
       "tolbutamide                         object\n",
       "pioglitazone                        object\n",
       "rosiglitazone                       object\n",
       "acarbose                            object\n",
       "miglitol                            object\n",
       "troglitazone                        object\n",
       "tolazamide                          object\n",
       "examide                             object\n",
       "citoglipton                         object\n",
       "insulin                             object\n",
       "glyburide-metformin                 object\n",
       "glipizide-metformin                 object\n",
       "glimepiride-pioglitazone            object\n",
       "metformin-rosiglitazone             object\n",
       "metformin-pioglitazone              object\n",
       "change                              object\n",
       "diabetesMed                         object\n",
       "readmitted                          object\n",
       "admit_date                  datetime64[ns]\n",
       "birth_date                  datetime64[ns]\n",
       "admission_type                      object\n",
       "admission_source                    object\n",
       "discharge_disposition               object\n",
       "age_at_admit                         int64\n",
       "dtype: object"
      ]
     },
     "execution_count": 174,
     "metadata": {},
     "output_type": "execute_result"
    }
   ],
   "source": [
    "data.dtypes"
   ]
  },
  {
   "cell_type": "code",
   "execution_count": 10,
   "metadata": {},
   "outputs": [
    {
     "data": {
      "text/plain": [
       "NO     0.539119\n",
       ">30    0.349282\n",
       "<30    0.111599\n",
       "Name: readmitted, dtype: float64"
      ]
     },
     "execution_count": 10,
     "metadata": {},
     "output_type": "execute_result"
    }
   ],
   "source": [
    "data['readmitted'].value_counts() / len(data)"
   ]
  },
  {
   "cell_type": "markdown",
   "metadata": {},
   "source": [
    "#### Before going further, I will replace the category IDs with their corresponding descriptions to make analysis easier.\n",
    "\n",
    "Replacing these IDs with np.nan will make it easier to mark these records as null/NA for data cleaning and feature engineering."
   ]
  },
  {
   "cell_type": "code",
   "execution_count": 11,
   "metadata": {},
   "outputs": [],
   "source": [
    "# will treat 6 as missing\n",
    "# '6':'NULL'\n",
    "admission_types = {\n",
    "    '1':'Emergency',\n",
    "    '2':'Urgent',\n",
    "    '3':'Elective',\n",
    "    '4':'Newborn',\n",
    "    '5':'Not Available',\n",
    "    '6':np.nan,\n",
    "    '7':'Trauma Center',\n",
    "    '8':'Not Mapped'}\n",
    "\n",
    "# will treat 17, 21 as missing\n",
    "# '17':'NULL'\n",
    "# '21':'Unknown/Invalid'\n",
    "admission_sources = {\n",
    "    '1':'Physician Referral',\n",
    "    '2':'Clinic Referral',\n",
    "    '3':'HMO Referral',\n",
    "    '4':'Transfer from a hospital',\n",
    "    '5':'Transfer from a Skilled Nursing Facility (SNF)',\n",
    "    '6':'Transfer from another health care facility',\n",
    "    '7':'Emergency Room',\n",
    "    '8':'Court/Law Enforcement',\n",
    "    '9':'Not Available',\n",
    "    '10':'Transfer from critial access hospital',\n",
    "    '11':'Normal Delivery',\n",
    "    '12':'Premature Delivery',\n",
    "    '13':'Sick Baby',\n",
    "    '14':'Extramural Birth',\n",
    "    '15':'Not Available',\n",
    "    '17': np.nan,\n",
    "    '18':'Transfer From Another Home Health Agency',\n",
    "    '19':'Readmission to Same Home Health Agency',\n",
    "    '20':'Not Mapped',\n",
    "    '21': np.nan,\n",
    "    '22':'Transfer from hospital inpt/same fac reslt in a sep claim',\n",
    "    '23':'Born inside this hospital',\n",
    "    '24':'Born outside this hospital',\n",
    "    '25':'Transfer from Ambulatory Surgery Center',\n",
    "    '26':'Transfer from Hospice'}\n",
    "\n",
    "\n",
    "# will treat 18, 26 as missing\n",
    "# '18':'NULL'\n",
    "# '26':'Unknown/Invalid'\n",
    "discharge_dispositions = {\n",
    "    '1':'Discharged to home',\n",
    "    '2':'Discharged/transferred to another short term hospital',\n",
    "    '3':'Discharged/transferred to SNF',\n",
    "    '4':'Discharged/transferred to ICF',\n",
    "    '5':'Discharged/transferred to another type of inpatient care institution',\n",
    "    '6':'Discharged/transferred to home with home health service',\n",
    "    '7':'Left AMA',\n",
    "    '8':'Discharged/transferred to home under care of Home IV provider',\n",
    "    '9':'Admitted as an inpatient to this hospital',\n",
    "    '10':'Neonate discharged to another hospital for neonatal aftercare',\n",
    "    '11':'Expired',\n",
    "    '12':'Still patient or expected to return for outpatient services',\n",
    "    '13':'Hospice / home',\n",
    "    '14':'Hospice / medical facility',\n",
    "    '15':'Discharged/transferred within this institution to Medicare approved swing bed',\n",
    "    '16':'Discharged/transferred/referred another institution for outpatient services',\n",
    "    '17':'Discharged/transferred/referred to this institution for outpatient services',\n",
    "    '18': np.nan,\n",
    "    '19':'Expired at home. Medicaid only, hospice.',\n",
    "    '20':'Expired in a medical facility. Medicaid only, hospice.',\n",
    "    '21':'Expired, place unknown. Medicaid only, hospice.',\n",
    "    '22':'Discharged/transferred to another rehab fac including rehab units of a hospital .',\n",
    "    '23':'Discharged/transferred to a long term care hospital.',\n",
    "    '24':'Discharged/transferred to a nursing facility certified under Medicaid but not certified under Medicare.',\n",
    "    '25':'Not Mapped',\n",
    "    '26': np.nan,\n",
    "    '30':'Discharged/transferred to another Type of Health Care Institution not Defined Elsewhere',\n",
    "    '27':'Discharged/transferred to a federal health care facility.',\n",
    "    '28':'Discharged/transferred/referred to a psychiatric hospital of psychiatric distinct part unit of a hospital',\n",
    "    '29':'Discharged/transferred to a Critical Access Hospital (CAH).'}\n",
    "\n",
    "\n",
    "# add new columns for descriptions\n",
    "data['admission_type'] = data['admission_type_id'].apply(lambda x: admission_types[x] if x in admission_types else np.nan)\n",
    "data['admission_source'] = data['admission_source_id'].apply(lambda x: admission_sources[x] if x in admission_sources else np.nan)\n",
    "data['discharge_disposition'] = data['discharge_disposition_id'].apply(lambda x: discharge_dispositions[x] if x in discharge_dispositions else np.nan)\n",
    "\n",
    "# drop old ID columns\n",
    "data.drop(columns=['admission_type_id', \n",
    "                   'admission_source_id', \n",
    "                   'discharge_disposition_id'], axis=1, inplace=True)"
   ]
  },
  {
   "cell_type": "code",
   "execution_count": 12,
   "metadata": {},
   "outputs": [
    {
     "data": {
      "text/plain": [
       "array(['encounter_id', 'patient_nbr', 'race', 'gender', 'weight',\n",
       "       'time_in_hospital', 'payer_code', 'medical_specialty',\n",
       "       'num_lab_procedures', 'num_procedures', 'num_medications',\n",
       "       'number_outpatient', 'number_emergency', 'diag_1', 'diag_2',\n",
       "       'diag_3', 'number_diagnoses', 'max_glu_serum', 'A1Cresult',\n",
       "       'metformin', 'repaglinide', 'nateglinide', 'chlorpropamide',\n",
       "       'glimepiride', 'acetohexamide', 'glipizide', 'glyburide',\n",
       "       'tolbutamide', 'pioglitazone', 'rosiglitazone', 'acarbose',\n",
       "       'miglitol', 'troglitazone', 'tolazamide', 'examide', 'citoglipton',\n",
       "       'insulin', 'glyburide-metformin', 'glipizide-metformin',\n",
       "       'glimepiride-pioglitazone', 'metformin-rosiglitazone',\n",
       "       'metformin-pioglitazone', 'change', 'diabetesMed', 'readmitted',\n",
       "       'admit_date', 'birth_date', 'admission_type', 'admission_source',\n",
       "       'discharge_disposition'], dtype=object)"
      ]
     },
     "execution_count": 12,
     "metadata": {},
     "output_type": "execute_result"
    }
   ],
   "source": [
    "data.columns.values"
   ]
  },
  {
   "cell_type": "markdown",
   "metadata": {},
   "source": [
    "## Data Analysis and Exploration"
   ]
  },
  {
   "cell_type": "markdown",
   "metadata": {},
   "source": [
    "### 1. How many rows and columns are in the dataset?"
   ]
  },
  {
   "cell_type": "code",
   "execution_count": 13,
   "metadata": {},
   "outputs": [
    {
     "data": {
      "text/plain": [
       "(101766, 50)"
      ]
     },
     "execution_count": 13,
     "metadata": {},
     "output_type": "execute_result"
    }
   ],
   "source": [
    "data.shape"
   ]
  },
  {
   "cell_type": "markdown",
   "metadata": {},
   "source": [
    "101,766 rows, 50 columns"
   ]
  },
  {
   "cell_type": "markdown",
   "metadata": {},
   "source": [
    "### 2. How many men are represented in the data versus women?"
   ]
  },
  {
   "cell_type": "code",
   "execution_count": 14,
   "metadata": {},
   "outputs": [
    {
     "data": {
      "text/plain": [
       "Female    54708\n",
       "Male      47055\n",
       "Name: gender, dtype: int64"
      ]
     },
     "execution_count": 14,
     "metadata": {},
     "output_type": "execute_result"
    }
   ],
   "source": [
    "data['gender'].value_counts()  # entire dataset"
   ]
  },
  {
   "cell_type": "code",
   "execution_count": 15,
   "metadata": {},
   "outputs": [],
   "source": [
    "from matplotlib import pyplot as plt"
   ]
  },
  {
   "cell_type": "code",
   "execution_count": 16,
   "metadata": {},
   "outputs": [
    {
     "data": {
      "text/plain": [
       "<BarContainer object of 2 artists>"
      ]
     },
     "execution_count": 16,
     "metadata": {},
     "output_type": "execute_result"
    },
    {
     "data": {
      "image/png": "[encoded data removed]",
      "text/plain": [
       "<Figure size 432x288 with 1 Axes>"
      ]
     },
     "metadata": {
      "needs_background": "light"
     },
     "output_type": "display_data"
    }
   ],
   "source": [
    "plt.bar(x=['Female', 'Male'], \n",
    "        height=data['gender'].value_counts(),\n",
    "        color=['red', 'blue'])"
   ]
  },
  {
   "cell_type": "markdown",
   "metadata": {},
   "source": [
    "Patients can appear multiple times throughout the dataset. Let's look at unique patients."
   ]
  },
  {
   "cell_type": "code",
   "execution_count": 17,
   "metadata": {},
   "outputs": [],
   "source": [
    "patient_genders = data[['patient_nbr', 'gender']].drop_duplicates()"
   ]
  },
  {
   "cell_type": "code",
   "execution_count": 18,
   "metadata": {},
   "outputs": [
    {
     "data": {
      "text/plain": [
       "71521"
      ]
     },
     "execution_count": 18,
     "metadata": {},
     "output_type": "execute_result"
    }
   ],
   "source": [
    "len(patient_genders)"
   ]
  },
  {
   "cell_type": "code",
   "execution_count": 19,
   "metadata": {},
   "outputs": [
    {
     "data": {
      "text/plain": [
       "71518"
      ]
     },
     "execution_count": 19,
     "metadata": {},
     "output_type": "execute_result"
    }
   ],
   "source": [
    "len(data['patient_nbr'].drop_duplicates())  # interesting, there are 3 patients with multiple gender entries."
   ]
  },
  {
   "cell_type": "code",
   "execution_count": 20,
   "metadata": {},
   "outputs": [
    {
     "data": {
      "text/html": [
       "<div>\n",
       "<style scoped>\n",
       "    .dataframe tbody tr th:only-of-type {\n",
       "        vertical-align: middle;\n",
       "    }\n",
       "\n",
       "    .dataframe tbody tr th {\n",
       "        vertical-align: top;\n",
       "    }\n",
       "\n",
       "    .dataframe thead th {\n",
       "        text-align: right;\n",
       "    }\n",
       "</style>\n",
       "<table border=\"1\" class=\"dataframe\">\n",
       "  <thead>\n",
       "    <tr style=\"text-align: right;\">\n",
       "      <th></th>\n",
       "      <th>patient_nbr</th>\n",
       "      <th>gender</th>\n",
       "    </tr>\n",
       "  </thead>\n",
       "  <tbody>\n",
       "    <tr>\n",
       "      <td>29500</td>\n",
       "      <td>55500588</td>\n",
       "      <td>Male</td>\n",
       "    </tr>\n",
       "    <tr>\n",
       "      <td>66706</td>\n",
       "      <td>109210482</td>\n",
       "      <td>Male</td>\n",
       "    </tr>\n",
       "    <tr>\n",
       "      <td>76845</td>\n",
       "      <td>40867677</td>\n",
       "      <td>Female</td>\n",
       "    </tr>\n",
       "  </tbody>\n",
       "</table>\n",
       "</div>"
      ],
      "text/plain": [
       "      patient_nbr  gender\n",
       "29500    55500588    Male\n",
       "66706   109210482    Male\n",
       "76845    40867677  Female"
      ]
     },
     "execution_count": 20,
     "metadata": {},
     "output_type": "execute_result"
    }
   ],
   "source": [
    "patient_genders[patient_genders['patient_nbr'].duplicated()]"
   ]
  },
  {
   "cell_type": "code",
   "execution_count": 21,
   "metadata": {},
   "outputs": [
    {
     "data": {
      "text/html": [
       "<div>\n",
       "<style scoped>\n",
       "    .dataframe tbody tr th:only-of-type {\n",
       "        vertical-align: middle;\n",
       "    }\n",
       "\n",
       "    .dataframe tbody tr th {\n",
       "        vertical-align: top;\n",
       "    }\n",
       "\n",
       "    .dataframe thead th {\n",
       "        text-align: right;\n",
       "    }\n",
       "</style>\n",
       "<table border=\"1\" class=\"dataframe\">\n",
       "  <thead>\n",
       "    <tr style=\"text-align: right;\">\n",
       "      <th></th>\n",
       "      <th>patient_nbr</th>\n",
       "      <th>gender</th>\n",
       "    </tr>\n",
       "  </thead>\n",
       "  <tbody>\n",
       "    <tr>\n",
       "      <td>3316</td>\n",
       "      <td>55500588</td>\n",
       "      <td>Female</td>\n",
       "    </tr>\n",
       "    <tr>\n",
       "      <td>29500</td>\n",
       "      <td>55500588</td>\n",
       "      <td>Male</td>\n",
       "    </tr>\n",
       "    <tr>\n",
       "      <td>65862</td>\n",
       "      <td>109210482</td>\n",
       "      <td>Female</td>\n",
       "    </tr>\n",
       "    <tr>\n",
       "      <td>66706</td>\n",
       "      <td>109210482</td>\n",
       "      <td>Male</td>\n",
       "    </tr>\n",
       "    <tr>\n",
       "      <td>74244</td>\n",
       "      <td>40867677</td>\n",
       "      <td>Male</td>\n",
       "    </tr>\n",
       "    <tr>\n",
       "      <td>76845</td>\n",
       "      <td>40867677</td>\n",
       "      <td>Female</td>\n",
       "    </tr>\n",
       "  </tbody>\n",
       "</table>\n",
       "</div>"
      ],
      "text/plain": [
       "      patient_nbr  gender\n",
       "3316     55500588  Female\n",
       "29500    55500588    Male\n",
       "65862   109210482  Female\n",
       "66706   109210482    Male\n",
       "74244    40867677    Male\n",
       "76845    40867677  Female"
      ]
     },
     "execution_count": 21,
     "metadata": {},
     "output_type": "execute_result"
    }
   ],
   "source": [
    "# finding them\n",
    "patient_genders[patient_genders['patient_nbr'].apply(lambda x: x in ['55500588', '109210482', '40867677'])] "
   ]
  },
  {
   "cell_type": "code",
   "execution_count": 22,
   "metadata": {},
   "outputs": [],
   "source": [
    "# removing them from the calculation\n",
    "patient_genders = patient_genders[patient_genders['patient_nbr'].apply(lambda x: x not in ['55500588', \n",
    "                                                                                           '109210482', \n",
    "                                                                                           '40867677'])]"
   ]
  },
  {
   "cell_type": "code",
   "execution_count": 23,
   "metadata": {},
   "outputs": [],
   "source": [
    "patient_gender_counts = pd.DataFrame(patient_genders['gender'].value_counts()).rename(columns={'gender':'count'}).reset_index().rename(columns={'index':'gender'})"
   ]
  },
  {
   "cell_type": "code",
   "execution_count": 24,
   "metadata": {},
   "outputs": [
    {
     "data": {
      "text/html": [
       "<div>\n",
       "<style scoped>\n",
       "    .dataframe tbody tr th:only-of-type {\n",
       "        vertical-align: middle;\n",
       "    }\n",
       "\n",
       "    .dataframe tbody tr th {\n",
       "        vertical-align: top;\n",
       "    }\n",
       "\n",
       "    .dataframe thead th {\n",
       "        text-align: right;\n",
       "    }\n",
       "</style>\n",
       "<table border=\"1\" class=\"dataframe\">\n",
       "  <thead>\n",
       "    <tr style=\"text-align: right;\">\n",
       "      <th></th>\n",
       "      <th>gender</th>\n",
       "      <th>count</th>\n",
       "      <th>proportion</th>\n",
       "    </tr>\n",
       "  </thead>\n",
       "  <tbody>\n",
       "    <tr>\n",
       "      <td>0</td>\n",
       "      <td>Female</td>\n",
       "      <td>38023</td>\n",
       "      <td>0.53168</td>\n",
       "    </tr>\n",
       "    <tr>\n",
       "      <td>1</td>\n",
       "      <td>Male</td>\n",
       "      <td>33489</td>\n",
       "      <td>0.46828</td>\n",
       "    </tr>\n",
       "  </tbody>\n",
       "</table>\n",
       "</div>"
      ],
      "text/plain": [
       "   gender  count  proportion\n",
       "0  Female  38023     0.53168\n",
       "1    Male  33489     0.46828"
      ]
     },
     "execution_count": 24,
     "metadata": {},
     "output_type": "execute_result"
    }
   ],
   "source": [
    "patient_gender_counts['proportion'] = (patient_gender_counts['count'] / len(patient_genders)).apply(lambda x: round(x,5))\n",
    "patient_gender_counts"
   ]
  },
  {
   "cell_type": "code",
   "execution_count": 25,
   "metadata": {},
   "outputs": [
    {
     "data": {
      "text/plain": [
       "<BarContainer object of 2 artists>"
      ]
     },
     "execution_count": 25,
     "metadata": {},
     "output_type": "execute_result"
    },
    {
     "data": {
      "image/png": "[encoded data removed]",
      "text/plain": [
       "<Figure size 432x288 with 1 Axes>"
      ]
     },
     "metadata": {
      "needs_background": "light"
     },
     "output_type": "display_data"
    }
   ],
   "source": [
    "plt.bar(x=patient_gender_counts['gender'], \n",
    "        height=patient_gender_counts['count'], \n",
    "        color=['red', 'blue'])"
   ]
  },
  {
   "cell_type": "markdown",
   "metadata": {},
   "source": [
    "Removing the 3 patient_nbrs that have both male and female gender entries, there are **38,026** unique male patients and **33,492** female patients.\n",
    "\n",
    "**53.17%** male\n",
    "\n",
    "**46.83%** female"
   ]
  },
  {
   "cell_type": "markdown",
   "metadata": {},
   "source": [
    "### 3. Patient Democraphics - Race"
   ]
  },
  {
   "cell_type": "code",
   "execution_count": 26,
   "metadata": {},
   "outputs": [],
   "source": [
    "patient_races = data[['patient_nbr', 'race']].drop_duplicates()  # same approach for race as I took with gender"
   ]
  },
  {
   "cell_type": "code",
   "execution_count": 27,
   "metadata": {},
   "outputs": [
    {
     "data": {
      "text/plain": [
       "71770"
      ]
     },
     "execution_count": 27,
     "metadata": {},
     "output_type": "execute_result"
    }
   ],
   "source": [
    "len(patient_races)"
   ]
  },
  {
   "cell_type": "code",
   "execution_count": 28,
   "metadata": {},
   "outputs": [
    {
     "data": {
      "text/plain": [
       "71518"
      ]
     },
     "execution_count": 28,
     "metadata": {},
     "output_type": "execute_result"
    }
   ],
   "source": [
    "len(patient_races['patient_nbr'].drop_duplicates())  # again, there are several patients with multiple entries."
   ]
  },
  {
   "cell_type": "code",
   "execution_count": 29,
   "metadata": {},
   "outputs": [
    {
     "data": {
      "text/html": [
       "<div>\n",
       "<style scoped>\n",
       "    .dataframe tbody tr th:only-of-type {\n",
       "        vertical-align: middle;\n",
       "    }\n",
       "\n",
       "    .dataframe tbody tr th {\n",
       "        vertical-align: top;\n",
       "    }\n",
       "\n",
       "    .dataframe thead th {\n",
       "        text-align: right;\n",
       "    }\n",
       "</style>\n",
       "<table border=\"1\" class=\"dataframe\">\n",
       "  <thead>\n",
       "    <tr style=\"text-align: right;\">\n",
       "      <th></th>\n",
       "      <th>patient_nbr</th>\n",
       "      <th>race</th>\n",
       "    </tr>\n",
       "  </thead>\n",
       "  <tbody>\n",
       "    <tr>\n",
       "      <td>1157</td>\n",
       "      <td>2341521</td>\n",
       "      <td>AfricanAmerican</td>\n",
       "    </tr>\n",
       "    <tr>\n",
       "      <td>1918</td>\n",
       "      <td>9946782</td>\n",
       "      <td>Caucasian</td>\n",
       "    </tr>\n",
       "    <tr>\n",
       "      <td>2271</td>\n",
       "      <td>70269183</td>\n",
       "      <td>Caucasian</td>\n",
       "    </tr>\n",
       "    <tr>\n",
       "      <td>2321</td>\n",
       "      <td>7436034</td>\n",
       "      <td>Caucasian</td>\n",
       "    </tr>\n",
       "    <tr>\n",
       "      <td>3372</td>\n",
       "      <td>12027024</td>\n",
       "      <td>Caucasian</td>\n",
       "    </tr>\n",
       "    <tr>\n",
       "      <td>...</td>\n",
       "      <td>...</td>\n",
       "      <td>...</td>\n",
       "    </tr>\n",
       "    <tr>\n",
       "      <td>99607</td>\n",
       "      <td>38752722</td>\n",
       "      <td>Caucasian</td>\n",
       "    </tr>\n",
       "    <tr>\n",
       "      <td>100521</td>\n",
       "      <td>111126897</td>\n",
       "      <td>Caucasian</td>\n",
       "    </tr>\n",
       "    <tr>\n",
       "      <td>100904</td>\n",
       "      <td>49193784</td>\n",
       "      <td>Caucasian</td>\n",
       "    </tr>\n",
       "    <tr>\n",
       "      <td>101286</td>\n",
       "      <td>46488123</td>\n",
       "      <td>Caucasian</td>\n",
       "    </tr>\n",
       "    <tr>\n",
       "      <td>101671</td>\n",
       "      <td>151756061</td>\n",
       "      <td>NaN</td>\n",
       "    </tr>\n",
       "  </tbody>\n",
       "</table>\n",
       "<p>252 rows × 2 columns</p>\n",
       "</div>"
      ],
      "text/plain": [
       "       patient_nbr             race\n",
       "1157       2341521  AfricanAmerican\n",
       "1918       9946782        Caucasian\n",
       "2271      70269183        Caucasian\n",
       "2321       7436034        Caucasian\n",
       "3372      12027024        Caucasian\n",
       "...            ...              ...\n",
       "99607     38752722        Caucasian\n",
       "100521   111126897        Caucasian\n",
       "100904    49193784        Caucasian\n",
       "101286    46488123        Caucasian\n",
       "101671   151756061              NaN\n",
       "\n",
       "[252 rows x 2 columns]"
      ]
     },
     "execution_count": 29,
     "metadata": {},
     "output_type": "execute_result"
    }
   ],
   "source": [
    "patient_races[patient_races['patient_nbr'].duplicated()]"
   ]
  },
  {
   "cell_type": "code",
   "execution_count": 30,
   "metadata": {},
   "outputs": [],
   "source": [
    "duplicated_race_patient_nbrs = patient_races[patient_races['patient_nbr'].duplicated()]['patient_nbr'].values"
   ]
  },
  {
   "cell_type": "code",
   "execution_count": 31,
   "metadata": {},
   "outputs": [],
   "source": [
    "# removing patients listed with multiple different races from calculation\n",
    "patient_races = patient_races[patient_races['patient_nbr'].apply(lambda x: x not in duplicated_race_patient_nbrs)]"
   ]
  },
  {
   "cell_type": "code",
   "execution_count": 32,
   "metadata": {},
   "outputs": [
    {
     "data": {
      "text/html": [
       "<div>\n",
       "<style scoped>\n",
       "    .dataframe tbody tr th:only-of-type {\n",
       "        vertical-align: middle;\n",
       "    }\n",
       "\n",
       "    .dataframe tbody tr th {\n",
       "        vertical-align: top;\n",
       "    }\n",
       "\n",
       "    .dataframe thead th {\n",
       "        text-align: right;\n",
       "    }\n",
       "</style>\n",
       "<table border=\"1\" class=\"dataframe\">\n",
       "  <thead>\n",
       "    <tr style=\"text-align: right;\">\n",
       "      <th></th>\n",
       "      <th>race</th>\n",
       "      <th>count</th>\n",
       "    </tr>\n",
       "  </thead>\n",
       "  <tbody>\n",
       "    <tr>\n",
       "      <td>0</td>\n",
       "      <td>Caucasian</td>\n",
       "      <td>53428</td>\n",
       "    </tr>\n",
       "    <tr>\n",
       "      <td>1</td>\n",
       "      <td>AfricanAmerican</td>\n",
       "      <td>12872</td>\n",
       "    </tr>\n",
       "    <tr>\n",
       "      <td>2</td>\n",
       "      <td>Hispanic</td>\n",
       "      <td>1491</td>\n",
       "    </tr>\n",
       "    <tr>\n",
       "      <td>3</td>\n",
       "      <td>Other</td>\n",
       "      <td>1135</td>\n",
       "    </tr>\n",
       "    <tr>\n",
       "      <td>4</td>\n",
       "      <td>Asian</td>\n",
       "      <td>493</td>\n",
       "    </tr>\n",
       "  </tbody>\n",
       "</table>\n",
       "</div>"
      ],
      "text/plain": [
       "              race  count\n",
       "0        Caucasian  53428\n",
       "1  AfricanAmerican  12872\n",
       "2         Hispanic   1491\n",
       "3            Other   1135\n",
       "4            Asian    493"
      ]
     },
     "execution_count": 32,
     "metadata": {},
     "output_type": "execute_result"
    }
   ],
   "source": [
    "patient_race_counts = pd.DataFrame(patient_races['race'].value_counts()).rename(columns={'race':'count'}).reset_index().rename(columns={'index':'race'})\n",
    "patient_race_counts"
   ]
  },
  {
   "cell_type": "code",
   "execution_count": 33,
   "metadata": {},
   "outputs": [
    {
     "data": {
      "text/html": [
       "<div>\n",
       "<style scoped>\n",
       "    .dataframe tbody tr th:only-of-type {\n",
       "        vertical-align: middle;\n",
       "    }\n",
       "\n",
       "    .dataframe tbody tr th {\n",
       "        vertical-align: top;\n",
       "    }\n",
       "\n",
       "    .dataframe thead th {\n",
       "        text-align: right;\n",
       "    }\n",
       "</style>\n",
       "<table border=\"1\" class=\"dataframe\">\n",
       "  <thead>\n",
       "    <tr style=\"text-align: right;\">\n",
       "      <th></th>\n",
       "      <th>race</th>\n",
       "      <th>count</th>\n",
       "      <th>proportion</th>\n",
       "    </tr>\n",
       "  </thead>\n",
       "  <tbody>\n",
       "    <tr>\n",
       "      <td>0</td>\n",
       "      <td>Caucasian</td>\n",
       "      <td>53428</td>\n",
       "      <td>0.74967</td>\n",
       "    </tr>\n",
       "    <tr>\n",
       "      <td>1</td>\n",
       "      <td>AfricanAmerican</td>\n",
       "      <td>12872</td>\n",
       "      <td>0.18061</td>\n",
       "    </tr>\n",
       "    <tr>\n",
       "      <td>2</td>\n",
       "      <td>Hispanic</td>\n",
       "      <td>1491</td>\n",
       "      <td>0.02092</td>\n",
       "    </tr>\n",
       "    <tr>\n",
       "      <td>3</td>\n",
       "      <td>Other</td>\n",
       "      <td>1135</td>\n",
       "      <td>0.01593</td>\n",
       "    </tr>\n",
       "    <tr>\n",
       "      <td>4</td>\n",
       "      <td>Asian</td>\n",
       "      <td>493</td>\n",
       "      <td>0.00692</td>\n",
       "    </tr>\n",
       "  </tbody>\n",
       "</table>\n",
       "</div>"
      ],
      "text/plain": [
       "              race  count  proportion\n",
       "0        Caucasian  53428     0.74967\n",
       "1  AfricanAmerican  12872     0.18061\n",
       "2         Hispanic   1491     0.02092\n",
       "3            Other   1135     0.01593\n",
       "4            Asian    493     0.00692"
      ]
     },
     "execution_count": 33,
     "metadata": {},
     "output_type": "execute_result"
    }
   ],
   "source": [
    "patient_race_counts['proportion'] = (patient_race_counts['count'] / len(patient_races)).apply(lambda x: round(x,5))\n",
    "patient_race_counts"
   ]
  },
  {
   "cell_type": "code",
   "execution_count": 34,
   "metadata": {},
   "outputs": [
    {
     "data": {
      "text/plain": [
       "<BarContainer object of 5 artists>"
      ]
     },
     "execution_count": 34,
     "metadata": {},
     "output_type": "execute_result"
    },
    {
     "data": {
      "image/png": "[encoded data removed]",
      "text/plain": [
       "<Figure size 432x288 with 1 Axes>"
      ]
     },
     "metadata": {
      "needs_background": "light"
     },
     "output_type": "display_data"
    }
   ],
   "source": [
    "plt.bar(x=patient_race_counts['race'],\n",
    "        height=patient_race_counts['count'])"
   ]
  },
  {
   "cell_type": "markdown",
   "metadata": {},
   "source": [
    "### 4. Patient Age - Male/Female"
   ]
  },
  {
   "cell_type": "markdown",
   "metadata": {},
   "source": [
    "I'll calculate the patients' *age at admission* (difference between admit_date and birth_date)"
   ]
  },
  {
   "cell_type": "code",
   "execution_count": 35,
   "metadata": {},
   "outputs": [],
   "source": [
    "from datetime import datetime\n",
    "from dateutil.relativedelta import relativedelta"
   ]
  },
  {
   "cell_type": "code",
   "execution_count": 36,
   "metadata": {},
   "outputs": [],
   "source": [
    "# casting as datetime\n",
    "data['birth_date'] = pd.to_datetime(data['birth_date'])\n",
    "data['admit_date'] = pd.to_datetime(data['admit_date'])"
   ]
  },
  {
   "cell_type": "code",
   "execution_count": 37,
   "metadata": {},
   "outputs": [],
   "source": [
    "data['age_at_admit'] = [relativedelta(a, b).years for a, b in zip(data['admit_date'], data['birth_date'])]"
   ]
  },
  {
   "cell_type": "code",
   "execution_count": 38,
   "metadata": {},
   "outputs": [],
   "source": [
    "patient_ages = data[['patient_nbr', 'age_at_admit']].drop_duplicates()"
   ]
  },
  {
   "cell_type": "code",
   "execution_count": 39,
   "metadata": {},
   "outputs": [],
   "source": [
    "age_range = [i for i in range(max(patient_ages['age_at_admit'])+1)]"
   ]
  },
  {
   "cell_type": "markdown",
   "metadata": {},
   "source": [
    "### 4. Patient Age - Male/Female"
   ]
  },
  {
   "cell_type": "code",
   "execution_count": 40,
   "metadata": {},
   "outputs": [
    {
     "data": {
      "text/plain": [
       "<BarContainer object of 108 artists>"
      ]
     },
     "execution_count": 40,
     "metadata": {},
     "output_type": "execute_result"
    },
    {
     "data": {
      "image/png": "[encoded data removed]",
      "text/plain": [
       "<Figure size 432x288 with 1 Axes>"
      ]
     },
     "metadata": {
      "needs_background": "light"
     },
     "output_type": "display_data"
    }
   ],
   "source": [
    "# histogram of patient age at admission. Interesting!\n",
    "plt.bar(age_range, [patient_ages['age_at_admit'].value_counts().loc[i] for i in age_range])"
   ]
  },
  {
   "cell_type": "markdown",
   "metadata": {},
   "source": [
    "If a patient appears multiple times, I will only keep only age at first admission"
   ]
  },
  {
   "cell_type": "code",
   "execution_count": 41,
   "metadata": {},
   "outputs": [
    {
     "data": {
      "text/html": [
       "<div>\n",
       "<style scoped>\n",
       "    .dataframe tbody tr th:only-of-type {\n",
       "        vertical-align: middle;\n",
       "    }\n",
       "\n",
       "    .dataframe tbody tr th {\n",
       "        vertical-align: top;\n",
       "    }\n",
       "\n",
       "    .dataframe thead th {\n",
       "        text-align: right;\n",
       "    }\n",
       "</style>\n",
       "<table border=\"1\" class=\"dataframe\">\n",
       "  <thead>\n",
       "    <tr style=\"text-align: right;\">\n",
       "      <th></th>\n",
       "      <th>patient_nbr</th>\n",
       "      <th>age_at_admit</th>\n",
       "    </tr>\n",
       "  </thead>\n",
       "  <tbody>\n",
       "    <tr>\n",
       "      <td>0</td>\n",
       "      <td>100000170</td>\n",
       "      <td>76</td>\n",
       "    </tr>\n",
       "    <tr>\n",
       "      <td>1</td>\n",
       "      <td>100001178</td>\n",
       "      <td>80</td>\n",
       "    </tr>\n",
       "    <tr>\n",
       "      <td>2</td>\n",
       "      <td>100002006</td>\n",
       "      <td>74</td>\n",
       "    </tr>\n",
       "    <tr>\n",
       "      <td>3</td>\n",
       "      <td>100002582</td>\n",
       "      <td>34</td>\n",
       "    </tr>\n",
       "    <tr>\n",
       "      <td>4</td>\n",
       "      <td>100002906</td>\n",
       "      <td>52</td>\n",
       "    </tr>\n",
       "    <tr>\n",
       "      <td>...</td>\n",
       "      <td>...</td>\n",
       "      <td>...</td>\n",
       "    </tr>\n",
       "    <tr>\n",
       "      <td>71513</td>\n",
       "      <td>99990405</td>\n",
       "      <td>81</td>\n",
       "    </tr>\n",
       "    <tr>\n",
       "      <td>71514</td>\n",
       "      <td>99994707</td>\n",
       "      <td>85</td>\n",
       "    </tr>\n",
       "    <tr>\n",
       "      <td>71515</td>\n",
       "      <td>99998208</td>\n",
       "      <td>61</td>\n",
       "    </tr>\n",
       "    <tr>\n",
       "      <td>71516</td>\n",
       "      <td>99998280</td>\n",
       "      <td>86</td>\n",
       "    </tr>\n",
       "    <tr>\n",
       "      <td>71517</td>\n",
       "      <td>99999630</td>\n",
       "      <td>71</td>\n",
       "    </tr>\n",
       "  </tbody>\n",
       "</table>\n",
       "<p>71518 rows × 2 columns</p>\n",
       "</div>"
      ],
      "text/plain": [
       "      patient_nbr  age_at_admit\n",
       "0       100000170            76\n",
       "1       100001178            80\n",
       "2       100002006            74\n",
       "3       100002582            34\n",
       "4       100002906            52\n",
       "...           ...           ...\n",
       "71513    99990405            81\n",
       "71514    99994707            85\n",
       "71515    99998208            61\n",
       "71516    99998280            86\n",
       "71517    99999630            71\n",
       "\n",
       "[71518 rows x 2 columns]"
      ]
     },
     "execution_count": 41,
     "metadata": {},
     "output_type": "execute_result"
    }
   ],
   "source": [
    "patient_ages_first = patient_ages.groupby('patient_nbr').first().reset_index()\n",
    "patient_ages_first"
   ]
  },
  {
   "cell_type": "code",
   "execution_count": 42,
   "metadata": {},
   "outputs": [
    {
     "data": {
      "text/html": [
       "<div>\n",
       "<style scoped>\n",
       "    .dataframe tbody tr th:only-of-type {\n",
       "        vertical-align: middle;\n",
       "    }\n",
       "\n",
       "    .dataframe tbody tr th {\n",
       "        vertical-align: top;\n",
       "    }\n",
       "\n",
       "    .dataframe thead th {\n",
       "        text-align: right;\n",
       "    }\n",
       "</style>\n",
       "<table border=\"1\" class=\"dataframe\">\n",
       "  <thead>\n",
       "    <tr style=\"text-align: right;\">\n",
       "      <th></th>\n",
       "      <th>patient_nbr</th>\n",
       "      <th>age_at_admit</th>\n",
       "      <th>gender</th>\n",
       "    </tr>\n",
       "  </thead>\n",
       "  <tbody>\n",
       "    <tr>\n",
       "      <td>0</td>\n",
       "      <td>100000170</td>\n",
       "      <td>76</td>\n",
       "      <td>Female</td>\n",
       "    </tr>\n",
       "    <tr>\n",
       "      <td>1</td>\n",
       "      <td>100001178</td>\n",
       "      <td>80</td>\n",
       "      <td>Male</td>\n",
       "    </tr>\n",
       "    <tr>\n",
       "      <td>2</td>\n",
       "      <td>100002006</td>\n",
       "      <td>74</td>\n",
       "      <td>Female</td>\n",
       "    </tr>\n",
       "    <tr>\n",
       "      <td>3</td>\n",
       "      <td>100002582</td>\n",
       "      <td>34</td>\n",
       "      <td>Male</td>\n",
       "    </tr>\n",
       "    <tr>\n",
       "      <td>4</td>\n",
       "      <td>100002906</td>\n",
       "      <td>52</td>\n",
       "      <td>Male</td>\n",
       "    </tr>\n",
       "    <tr>\n",
       "      <td>...</td>\n",
       "      <td>...</td>\n",
       "      <td>...</td>\n",
       "      <td>...</td>\n",
       "    </tr>\n",
       "    <tr>\n",
       "      <td>71510</td>\n",
       "      <td>99990405</td>\n",
       "      <td>81</td>\n",
       "      <td>Female</td>\n",
       "    </tr>\n",
       "    <tr>\n",
       "      <td>71511</td>\n",
       "      <td>99994707</td>\n",
       "      <td>85</td>\n",
       "      <td>Female</td>\n",
       "    </tr>\n",
       "    <tr>\n",
       "      <td>71512</td>\n",
       "      <td>99998208</td>\n",
       "      <td>61</td>\n",
       "      <td>Female</td>\n",
       "    </tr>\n",
       "    <tr>\n",
       "      <td>71513</td>\n",
       "      <td>99998280</td>\n",
       "      <td>86</td>\n",
       "      <td>Female</td>\n",
       "    </tr>\n",
       "    <tr>\n",
       "      <td>71514</td>\n",
       "      <td>99999630</td>\n",
       "      <td>71</td>\n",
       "      <td>Male</td>\n",
       "    </tr>\n",
       "  </tbody>\n",
       "</table>\n",
       "<p>71515 rows × 3 columns</p>\n",
       "</div>"
      ],
      "text/plain": [
       "      patient_nbr  age_at_admit  gender\n",
       "0       100000170            76  Female\n",
       "1       100001178            80    Male\n",
       "2       100002006            74  Female\n",
       "3       100002582            34    Male\n",
       "4       100002906            52    Male\n",
       "...           ...           ...     ...\n",
       "71510    99990405            81  Female\n",
       "71511    99994707            85  Female\n",
       "71512    99998208            61  Female\n",
       "71513    99998280            86  Female\n",
       "71514    99999630            71    Male\n",
       "\n",
       "[71515 rows x 3 columns]"
      ]
     },
     "execution_count": 42,
     "metadata": {},
     "output_type": "execute_result"
    }
   ],
   "source": [
    "patient_ages_first = patient_ages_first.merge(patient_genders, on='patient_nbr', how='inner')\n",
    "patient_ages_first"
   ]
  },
  {
   "cell_type": "code",
   "execution_count": 43,
   "metadata": {},
   "outputs": [],
   "source": [
    "import numpy as np"
   ]
  },
  {
   "cell_type": "code",
   "execution_count": 44,
   "metadata": {},
   "outputs": [
    {
     "name": "stdout",
     "output_type": "stream",
     "text": [
      "Male average age at first admission: 64.28 years\n",
      "Female average age at first admission: 65.95 years\n"
     ]
    }
   ],
   "source": [
    "# male\n",
    "avg_age_male = np.mean(patient_ages_first[patient_ages_first['gender']=='Male'].dropna()['age_at_admit'].values)\n",
    "print('Male average age at first admission: {} years'.format(round(avg_age_male,2)))\n",
    "\n",
    "# female\n",
    "avg_age_female = np.mean(patient_ages_first[patient_ages_first['gender']=='Female'].dropna()['age_at_admit'].values)\n",
    "print('Female average age at first admission: {} years'.format(round(avg_age_female,2)))"
   ]
  },
  {
   "cell_type": "markdown",
   "metadata": {},
   "source": [
    "### 5. Missing Data -- which features have the most missing data?"
   ]
  },
  {
   "cell_type": "code",
   "execution_count": 45,
   "metadata": {},
   "outputs": [
    {
     "name": "stdout",
     "output_type": "stream",
     "text": [
      "Feature weight contains 96.86% missing values.\n",
      "Other noteworthy missing data: Feature payer_code contains 39.56% missing values.\n",
      "Other noteworthy missing data: Feature medical_specialty contains 49.08% missing values.\n"
     ]
    }
   ],
   "source": [
    "count_nas = {}\n",
    "\n",
    "for col in data.columns.values:\n",
    "    \n",
    "    num_na = sum(data[col].isna())\n",
    "    proportion_na = 1.0 * num_na / len(data)\n",
    "    \n",
    "    count_nas[col] = {\n",
    "        'count_na': num_na,\n",
    "        'proportion_na': proportion_na\n",
    "    }\n",
    "    \n",
    "    if proportion_na > 0.5:\n",
    "        print('Feature {} contains {}% missing values.'.format(col, 100.0 * round(proportion_na,4)))\n",
    "    elif proportion_na > 0.3:\n",
    "        print('Other noteworthy missing data: Feature {} contains {}% missing values.'.format(col, 100.0 * round(proportion_na,4)))"
   ]
  },
  {
   "cell_type": "markdown",
   "metadata": {},
   "source": [
    "### 6. Patient readmission rate by specialty"
   ]
  },
  {
   "cell_type": "code",
   "execution_count": 46,
   "metadata": {},
   "outputs": [
    {
     "data": {
      "text/plain": [
       "0        Pediatrics-Endocrinology\n",
       "9                InternalMedicine\n",
       "12         Family/GeneralPractice\n",
       "17                     Cardiology\n",
       "27                Surgery-General\n",
       "                   ...           \n",
       "64899                Perinatology\n",
       "79594             Neurophysiology\n",
       "91565    Endocrinology-Metabolism\n",
       "92037                     DCPTEAM\n",
       "95599                    Resident\n",
       "Name: medical_specialty, Length: 72, dtype: object"
      ]
     },
     "execution_count": 46,
     "metadata": {},
     "output_type": "execute_result"
    }
   ],
   "source": [
    "specialties = data['medical_specialty'].dropna().drop_duplicates()\n",
    "specialties"
   ]
  },
  {
   "cell_type": "code",
   "execution_count": 47,
   "metadata": {},
   "outputs": [
    {
     "data": {
      "text/html": [
       "<div>\n",
       "<style scoped>\n",
       "    .dataframe tbody tr th:only-of-type {\n",
       "        vertical-align: middle;\n",
       "    }\n",
       "\n",
       "    .dataframe tbody tr th {\n",
       "        vertical-align: top;\n",
       "    }\n",
       "\n",
       "    .dataframe thead th {\n",
       "        text-align: right;\n",
       "    }\n",
       "</style>\n",
       "<table border=\"1\" class=\"dataframe\">\n",
       "  <thead>\n",
       "    <tr style=\"text-align: right;\">\n",
       "      <th></th>\n",
       "      <th>encounter_id</th>\n",
       "      <th>patient_nbr</th>\n",
       "      <th>race</th>\n",
       "      <th>gender</th>\n",
       "      <th>weight</th>\n",
       "      <th>time_in_hospital</th>\n",
       "      <th>payer_code</th>\n",
       "      <th>medical_specialty</th>\n",
       "      <th>num_lab_procedures</th>\n",
       "      <th>num_procedures</th>\n",
       "      <th>...</th>\n",
       "      <th>metformin-pioglitazone</th>\n",
       "      <th>change</th>\n",
       "      <th>diabetesMed</th>\n",
       "      <th>readmitted</th>\n",
       "      <th>admit_date</th>\n",
       "      <th>birth_date</th>\n",
       "      <th>admission_type</th>\n",
       "      <th>admission_source</th>\n",
       "      <th>discharge_disposition</th>\n",
       "      <th>age_at_admit</th>\n",
       "    </tr>\n",
       "  </thead>\n",
       "  <tbody>\n",
       "    <tr>\n",
       "      <td>9</td>\n",
       "      <td>15738</td>\n",
       "      <td>63555939</td>\n",
       "      <td>Caucasian</td>\n",
       "      <td>Female</td>\n",
       "      <td>NaN</td>\n",
       "      <td>12</td>\n",
       "      <td>NaN</td>\n",
       "      <td>InternalMedicine</td>\n",
       "      <td>33</td>\n",
       "      <td>3</td>\n",
       "      <td>...</td>\n",
       "      <td>No</td>\n",
       "      <td>Ch</td>\n",
       "      <td>Yes</td>\n",
       "      <td>NO</td>\n",
       "      <td>2003-10-28 22:01:00</td>\n",
       "      <td>1913-02-15 00:25:00</td>\n",
       "      <td>Elective</td>\n",
       "      <td>Transfer from a hospital</td>\n",
       "      <td>Discharged/transferred to SNF</td>\n",
       "      <td>90</td>\n",
       "    </tr>\n",
       "    <tr>\n",
       "      <td>46</td>\n",
       "      <td>486156</td>\n",
       "      <td>86240259</td>\n",
       "      <td>Caucasian</td>\n",
       "      <td>Female</td>\n",
       "      <td>NaN</td>\n",
       "      <td>9</td>\n",
       "      <td>NaN</td>\n",
       "      <td>InternalMedicine</td>\n",
       "      <td>25</td>\n",
       "      <td>3</td>\n",
       "      <td>...</td>\n",
       "      <td>No</td>\n",
       "      <td>Ch</td>\n",
       "      <td>Yes</td>\n",
       "      <td>&lt;30</td>\n",
       "      <td>2001-02-04 03:47:00</td>\n",
       "      <td>1924-07-07 06:11:00</td>\n",
       "      <td>Elective</td>\n",
       "      <td>Transfer from a hospital</td>\n",
       "      <td>Discharged/transferred to another type of inpa...</td>\n",
       "      <td>76</td>\n",
       "    </tr>\n",
       "    <tr>\n",
       "      <td>122</td>\n",
       "      <td>2091690</td>\n",
       "      <td>7919802</td>\n",
       "      <td>AfricanAmerican</td>\n",
       "      <td>Female</td>\n",
       "      <td>NaN</td>\n",
       "      <td>6</td>\n",
       "      <td>NaN</td>\n",
       "      <td>InternalMedicine</td>\n",
       "      <td>47</td>\n",
       "      <td>2</td>\n",
       "      <td>...</td>\n",
       "      <td>No</td>\n",
       "      <td>No</td>\n",
       "      <td>No</td>\n",
       "      <td>NO</td>\n",
       "      <td>2008-06-17 06:16:00</td>\n",
       "      <td>1959-06-22 18:12:00</td>\n",
       "      <td>NaN</td>\n",
       "      <td>Emergency Room</td>\n",
       "      <td>Not Mapped</td>\n",
       "      <td>48</td>\n",
       "    </tr>\n",
       "    <tr>\n",
       "      <td>125</td>\n",
       "      <td>2095932</td>\n",
       "      <td>276606</td>\n",
       "      <td>AfricanAmerican</td>\n",
       "      <td>Female</td>\n",
       "      <td>NaN</td>\n",
       "      <td>8</td>\n",
       "      <td>NaN</td>\n",
       "      <td>InternalMedicine</td>\n",
       "      <td>62</td>\n",
       "      <td>0</td>\n",
       "      <td>...</td>\n",
       "      <td>No</td>\n",
       "      <td>Ch</td>\n",
       "      <td>Yes</td>\n",
       "      <td>&gt;30</td>\n",
       "      <td>1999-04-18 07:16:00</td>\n",
       "      <td>1968-03-06 09:33:00</td>\n",
       "      <td>NaN</td>\n",
       "      <td>Emergency Room</td>\n",
       "      <td>Not Mapped</td>\n",
       "      <td>31</td>\n",
       "    </tr>\n",
       "    <tr>\n",
       "      <td>132</td>\n",
       "      <td>2262036</td>\n",
       "      <td>427482</td>\n",
       "      <td>Caucasian</td>\n",
       "      <td>Female</td>\n",
       "      <td>NaN</td>\n",
       "      <td>7</td>\n",
       "      <td>NaN</td>\n",
       "      <td>InternalMedicine</td>\n",
       "      <td>72</td>\n",
       "      <td>0</td>\n",
       "      <td>...</td>\n",
       "      <td>No</td>\n",
       "      <td>Ch</td>\n",
       "      <td>Yes</td>\n",
       "      <td>&gt;30</td>\n",
       "      <td>2000-03-03 21:44:00</td>\n",
       "      <td>1940-01-01 12:40:00</td>\n",
       "      <td>NaN</td>\n",
       "      <td>Emergency Room</td>\n",
       "      <td>Not Mapped</td>\n",
       "      <td>60</td>\n",
       "    </tr>\n",
       "  </tbody>\n",
       "</table>\n",
       "<p>5 rows × 51 columns</p>\n",
       "</div>"
      ],
      "text/plain": [
       "    encounter_id patient_nbr             race  gender weight time_in_hospital  \\\n",
       "9          15738    63555939        Caucasian  Female    NaN               12   \n",
       "46        486156    86240259        Caucasian  Female    NaN                9   \n",
       "122      2091690     7919802  AfricanAmerican  Female    NaN                6   \n",
       "125      2095932      276606  AfricanAmerican  Female    NaN                8   \n",
       "132      2262036      427482        Caucasian  Female    NaN                7   \n",
       "\n",
       "    payer_code medical_specialty num_lab_procedures num_procedures  ...  \\\n",
       "9          NaN  InternalMedicine                 33              3  ...   \n",
       "46         NaN  InternalMedicine                 25              3  ...   \n",
       "122        NaN  InternalMedicine                 47              2  ...   \n",
       "125        NaN  InternalMedicine                 62              0  ...   \n",
       "132        NaN  InternalMedicine                 72              0  ...   \n",
       "\n",
       "    metformin-pioglitazone change diabetesMed readmitted          admit_date  \\\n",
       "9                       No     Ch         Yes         NO 2003-10-28 22:01:00   \n",
       "46                      No     Ch         Yes        <30 2001-02-04 03:47:00   \n",
       "122                     No     No          No         NO 2008-06-17 06:16:00   \n",
       "125                     No     Ch         Yes        >30 1999-04-18 07:16:00   \n",
       "132                     No     Ch         Yes        >30 2000-03-03 21:44:00   \n",
       "\n",
       "             birth_date admission_type          admission_source  \\\n",
       "9   1913-02-15 00:25:00       Elective  Transfer from a hospital   \n",
       "46  1924-07-07 06:11:00       Elective  Transfer from a hospital   \n",
       "122 1959-06-22 18:12:00            NaN            Emergency Room   \n",
       "125 1968-03-06 09:33:00            NaN            Emergency Room   \n",
       "132 1940-01-01 12:40:00            NaN            Emergency Room   \n",
       "\n",
       "                                 discharge_disposition age_at_admit  \n",
       "9                        Discharged/transferred to SNF           90  \n",
       "46   Discharged/transferred to another type of inpa...           76  \n",
       "122                                         Not Mapped           48  \n",
       "125                                         Not Mapped           31  \n",
       "132                                         Not Mapped           60  \n",
       "\n",
       "[5 rows x 51 columns]"
      ]
     },
     "execution_count": 47,
     "metadata": {},
     "output_type": "execute_result"
    }
   ],
   "source": [
    "s_df = data[data['medical_specialty'] == 'InternalMedicine']\n",
    "s_df.head()"
   ]
  },
  {
   "cell_type": "code",
   "execution_count": 48,
   "metadata": {},
   "outputs": [
    {
     "data": {
      "text/plain": [
       "11998"
      ]
     },
     "execution_count": 48,
     "metadata": {},
     "output_type": "execute_result"
    }
   ],
   "source": [
    "num_patients = len(s_df.groupby('patient_nbr').first().reset_index())\n",
    "num_patients"
   ]
  },
  {
   "cell_type": "code",
   "execution_count": 49,
   "metadata": {},
   "outputs": [
    {
     "data": {
      "text/html": [
       "<div>\n",
       "<style scoped>\n",
       "    .dataframe tbody tr th:only-of-type {\n",
       "        vertical-align: middle;\n",
       "    }\n",
       "\n",
       "    .dataframe tbody tr th {\n",
       "        vertical-align: top;\n",
       "    }\n",
       "\n",
       "    .dataframe thead th {\n",
       "        text-align: right;\n",
       "    }\n",
       "</style>\n",
       "<table border=\"1\" class=\"dataframe\">\n",
       "  <thead>\n",
       "    <tr style=\"text-align: right;\">\n",
       "      <th></th>\n",
       "      <th>medical_specialty</th>\n",
       "      <th>num_patients</th>\n",
       "      <th>num_patients_readmitted_&lt;30_days</th>\n",
       "    </tr>\n",
       "  </thead>\n",
       "  <tbody>\n",
       "    <tr>\n",
       "      <td>0</td>\n",
       "      <td>Pediatrics-Endocrinology</td>\n",
       "      <td>151.0</td>\n",
       "      <td>1.0</td>\n",
       "    </tr>\n",
       "    <tr>\n",
       "      <td>1</td>\n",
       "      <td>InternalMedicine</td>\n",
       "      <td>11998.0</td>\n",
       "      <td>1426.0</td>\n",
       "    </tr>\n",
       "    <tr>\n",
       "      <td>2</td>\n",
       "      <td>Family/GeneralPractice</td>\n",
       "      <td>6053.0</td>\n",
       "      <td>756.0</td>\n",
       "    </tr>\n",
       "    <tr>\n",
       "      <td>3</td>\n",
       "      <td>Cardiology</td>\n",
       "      <td>4807.0</td>\n",
       "      <td>405.0</td>\n",
       "    </tr>\n",
       "    <tr>\n",
       "      <td>4</td>\n",
       "      <td>Surgery-General</td>\n",
       "      <td>2821.0</td>\n",
       "      <td>314.0</td>\n",
       "    </tr>\n",
       "    <tr>\n",
       "      <td>...</td>\n",
       "      <td>...</td>\n",
       "      <td>...</td>\n",
       "      <td>...</td>\n",
       "    </tr>\n",
       "    <tr>\n",
       "      <td>67</td>\n",
       "      <td>Perinatology</td>\n",
       "      <td>1.0</td>\n",
       "      <td>0.0</td>\n",
       "    </tr>\n",
       "    <tr>\n",
       "      <td>68</td>\n",
       "      <td>Neurophysiology</td>\n",
       "      <td>1.0</td>\n",
       "      <td>0.0</td>\n",
       "    </tr>\n",
       "    <tr>\n",
       "      <td>69</td>\n",
       "      <td>Endocrinology-Metabolism</td>\n",
       "      <td>7.0</td>\n",
       "      <td>1.0</td>\n",
       "    </tr>\n",
       "    <tr>\n",
       "      <td>70</td>\n",
       "      <td>DCPTEAM</td>\n",
       "      <td>6.0</td>\n",
       "      <td>0.0</td>\n",
       "    </tr>\n",
       "    <tr>\n",
       "      <td>71</td>\n",
       "      <td>Resident</td>\n",
       "      <td>2.0</td>\n",
       "      <td>1.0</td>\n",
       "    </tr>\n",
       "  </tbody>\n",
       "</table>\n",
       "<p>72 rows × 3 columns</p>\n",
       "</div>"
      ],
      "text/plain": [
       "           medical_specialty  num_patients  num_patients_readmitted_<30_days\n",
       "0   Pediatrics-Endocrinology         151.0                               1.0\n",
       "1           InternalMedicine       11998.0                            1426.0\n",
       "2     Family/GeneralPractice        6053.0                             756.0\n",
       "3                 Cardiology        4807.0                             405.0\n",
       "4            Surgery-General        2821.0                             314.0\n",
       "..                       ...           ...                               ...\n",
       "67              Perinatology           1.0                               0.0\n",
       "68           Neurophysiology           1.0                               0.0\n",
       "69  Endocrinology-Metabolism           7.0                               1.0\n",
       "70                   DCPTEAM           6.0                               0.0\n",
       "71                  Resident           2.0                               1.0\n",
       "\n",
       "[72 rows x 3 columns]"
      ]
     },
     "execution_count": 49,
     "metadata": {},
     "output_type": "execute_result"
    }
   ],
   "source": [
    "readmission_df = pd.DataFrame()\n",
    "\n",
    "for s in specialties:\n",
    "    s_df = data[data['medical_specialty'] == s]\n",
    "    s_df_readmitted = s_df[s_df['readmitted'] == '<30']\n",
    "    \n",
    "    num_patients = len(s_df.groupby('patient_nbr').first().reset_index())\n",
    "    num_patients_readmitted = len(s_df_readmitted.groupby('patient_nbr').first().reset_index())\n",
    "    \n",
    "    #print(s)\n",
    "    #print('Out of {} patients, {} were readmitted within 30 days.'.format(num_patients, num_patients_readmitted))\n",
    "    \n",
    "    readmission_df = readmission_df.append(pd.Series([s, num_patients, num_patients_readmitted]), ignore_index=True)\n",
    "    \n",
    "readmission_df.columns=['medical_specialty', 'num_patients', 'num_patients_readmitted_<30_days']\n",
    "readmission_df"
   ]
  },
  {
   "cell_type": "code",
   "execution_count": 50,
   "metadata": {},
   "outputs": [
    {
     "data": {
      "text/html": [
       "<div>\n",
       "<style scoped>\n",
       "    .dataframe tbody tr th:only-of-type {\n",
       "        vertical-align: middle;\n",
       "    }\n",
       "\n",
       "    .dataframe tbody tr th {\n",
       "        vertical-align: top;\n",
       "    }\n",
       "\n",
       "    .dataframe thead th {\n",
       "        text-align: right;\n",
       "    }\n",
       "</style>\n",
       "<table border=\"1\" class=\"dataframe\">\n",
       "  <thead>\n",
       "    <tr style=\"text-align: right;\">\n",
       "      <th></th>\n",
       "      <th>medical_specialty</th>\n",
       "      <th>num_patients</th>\n",
       "      <th>num_patients_readmitted_&lt;30_days</th>\n",
       "      <th>proportion_readmitted</th>\n",
       "    </tr>\n",
       "  </thead>\n",
       "  <tbody>\n",
       "    <tr>\n",
       "      <td>0</td>\n",
       "      <td>Pediatrics-Endocrinology</td>\n",
       "      <td>151.0</td>\n",
       "      <td>1.0</td>\n",
       "      <td>0.006623</td>\n",
       "    </tr>\n",
       "    <tr>\n",
       "      <td>1</td>\n",
       "      <td>InternalMedicine</td>\n",
       "      <td>11998.0</td>\n",
       "      <td>1426.0</td>\n",
       "      <td>0.118853</td>\n",
       "    </tr>\n",
       "    <tr>\n",
       "      <td>2</td>\n",
       "      <td>Family/GeneralPractice</td>\n",
       "      <td>6053.0</td>\n",
       "      <td>756.0</td>\n",
       "      <td>0.124897</td>\n",
       "    </tr>\n",
       "    <tr>\n",
       "      <td>3</td>\n",
       "      <td>Cardiology</td>\n",
       "      <td>4807.0</td>\n",
       "      <td>405.0</td>\n",
       "      <td>0.084252</td>\n",
       "    </tr>\n",
       "    <tr>\n",
       "      <td>4</td>\n",
       "      <td>Surgery-General</td>\n",
       "      <td>2821.0</td>\n",
       "      <td>314.0</td>\n",
       "      <td>0.111308</td>\n",
       "    </tr>\n",
       "    <tr>\n",
       "      <td>...</td>\n",
       "      <td>...</td>\n",
       "      <td>...</td>\n",
       "      <td>...</td>\n",
       "      <td>...</td>\n",
       "    </tr>\n",
       "    <tr>\n",
       "      <td>67</td>\n",
       "      <td>Perinatology</td>\n",
       "      <td>1.0</td>\n",
       "      <td>0.0</td>\n",
       "      <td>0.000000</td>\n",
       "    </tr>\n",
       "    <tr>\n",
       "      <td>68</td>\n",
       "      <td>Neurophysiology</td>\n",
       "      <td>1.0</td>\n",
       "      <td>0.0</td>\n",
       "      <td>0.000000</td>\n",
       "    </tr>\n",
       "    <tr>\n",
       "      <td>69</td>\n",
       "      <td>Endocrinology-Metabolism</td>\n",
       "      <td>7.0</td>\n",
       "      <td>1.0</td>\n",
       "      <td>0.142857</td>\n",
       "    </tr>\n",
       "    <tr>\n",
       "      <td>70</td>\n",
       "      <td>DCPTEAM</td>\n",
       "      <td>6.0</td>\n",
       "      <td>0.0</td>\n",
       "      <td>0.000000</td>\n",
       "    </tr>\n",
       "    <tr>\n",
       "      <td>71</td>\n",
       "      <td>Resident</td>\n",
       "      <td>2.0</td>\n",
       "      <td>1.0</td>\n",
       "      <td>0.500000</td>\n",
       "    </tr>\n",
       "  </tbody>\n",
       "</table>\n",
       "<p>72 rows × 4 columns</p>\n",
       "</div>"
      ],
      "text/plain": [
       "           medical_specialty  num_patients  num_patients_readmitted_<30_days  \\\n",
       "0   Pediatrics-Endocrinology         151.0                               1.0   \n",
       "1           InternalMedicine       11998.0                            1426.0   \n",
       "2     Family/GeneralPractice        6053.0                             756.0   \n",
       "3                 Cardiology        4807.0                             405.0   \n",
       "4            Surgery-General        2821.0                             314.0   \n",
       "..                       ...           ...                               ...   \n",
       "67              Perinatology           1.0                               0.0   \n",
       "68           Neurophysiology           1.0                               0.0   \n",
       "69  Endocrinology-Metabolism           7.0                               1.0   \n",
       "70                   DCPTEAM           6.0                               0.0   \n",
       "71                  Resident           2.0                               1.0   \n",
       "\n",
       "    proportion_readmitted  \n",
       "0                0.006623  \n",
       "1                0.118853  \n",
       "2                0.124897  \n",
       "3                0.084252  \n",
       "4                0.111308  \n",
       "..                    ...  \n",
       "67               0.000000  \n",
       "68               0.000000  \n",
       "69               0.142857  \n",
       "70               0.000000  \n",
       "71               0.500000  \n",
       "\n",
       "[72 rows x 4 columns]"
      ]
     },
     "execution_count": 50,
     "metadata": {},
     "output_type": "execute_result"
    }
   ],
   "source": [
    "readmission_df['proportion_readmitted'] = readmission_df['num_patients_readmitted_<30_days'] / readmission_df['num_patients']\n",
    "\n",
    "readmission_df"
   ]
  },
  {
   "cell_type": "markdown",
   "metadata": {},
   "source": [
    "Looking only at specialties with over 50 patients admitted, I sorted the specialties by the proportion of their patients which are readmitted within 30 days.\n",
    "\n",
    "Unsurprisingly, the specialties with the higest rates of early patient readmission are those related to cancer, followed by a variety of specialties which often deal with high levels of physical trauma--surgery, emergency/trauma."
   ]
  },
  {
   "cell_type": "code",
   "execution_count": 51,
   "metadata": {
    "scrolled": true
   },
   "outputs": [
    {
     "data": {
      "text/html": [
       "<div>\n",
       "<style scoped>\n",
       "    .dataframe tbody tr th:only-of-type {\n",
       "        vertical-align: middle;\n",
       "    }\n",
       "\n",
       "    .dataframe tbody tr th {\n",
       "        vertical-align: top;\n",
       "    }\n",
       "\n",
       "    .dataframe thead th {\n",
       "        text-align: right;\n",
       "    }\n",
       "</style>\n",
       "<table border=\"1\" class=\"dataframe\">\n",
       "  <thead>\n",
       "    <tr style=\"text-align: right;\">\n",
       "      <th></th>\n",
       "      <th>medical_specialty</th>\n",
       "      <th>num_patients</th>\n",
       "      <th>num_patients_readmitted_&lt;30_days</th>\n",
       "      <th>proportion_readmitted</th>\n",
       "    </tr>\n",
       "  </thead>\n",
       "  <tbody>\n",
       "    <tr>\n",
       "      <td>55</td>\n",
       "      <td>Hematology</td>\n",
       "      <td>55.0</td>\n",
       "      <td>16.0</td>\n",
       "      <td>0.290909</td>\n",
       "    </tr>\n",
       "    <tr>\n",
       "      <td>17</td>\n",
       "      <td>Hematology/Oncology</td>\n",
       "      <td>150.0</td>\n",
       "      <td>33.0</td>\n",
       "      <td>0.220000</td>\n",
       "    </tr>\n",
       "    <tr>\n",
       "      <td>32</td>\n",
       "      <td>Oncology</td>\n",
       "      <td>266.0</td>\n",
       "      <td>50.0</td>\n",
       "      <td>0.187970</td>\n",
       "    </tr>\n",
       "    <tr>\n",
       "      <td>8</td>\n",
       "      <td>Nephrology</td>\n",
       "      <td>1072.0</td>\n",
       "      <td>192.0</td>\n",
       "      <td>0.179104</td>\n",
       "    </tr>\n",
       "    <tr>\n",
       "      <td>27</td>\n",
       "      <td>Radiology</td>\n",
       "      <td>51.0</td>\n",
       "      <td>8.0</td>\n",
       "      <td>0.156863</td>\n",
       "    </tr>\n",
       "    <tr>\n",
       "      <td>40</td>\n",
       "      <td>PhysicalMedicineandRehabilitation</td>\n",
       "      <td>365.0</td>\n",
       "      <td>53.0</td>\n",
       "      <td>0.145205</td>\n",
       "    </tr>\n",
       "    <tr>\n",
       "      <td>50</td>\n",
       "      <td>Surgery-Vascular</td>\n",
       "      <td>468.0</td>\n",
       "      <td>66.0</td>\n",
       "      <td>0.141026</td>\n",
       "    </tr>\n",
       "    <tr>\n",
       "      <td>11</td>\n",
       "      <td>Emergency/Trauma</td>\n",
       "      <td>5132.0</td>\n",
       "      <td>655.0</td>\n",
       "      <td>0.127631</td>\n",
       "    </tr>\n",
       "    <tr>\n",
       "      <td>2</td>\n",
       "      <td>Family/GeneralPractice</td>\n",
       "      <td>6053.0</td>\n",
       "      <td>756.0</td>\n",
       "      <td>0.124897</td>\n",
       "    </tr>\n",
       "    <tr>\n",
       "      <td>10</td>\n",
       "      <td>Psychiatry</td>\n",
       "      <td>723.0</td>\n",
       "      <td>90.0</td>\n",
       "      <td>0.124481</td>\n",
       "    </tr>\n",
       "    <tr>\n",
       "      <td>1</td>\n",
       "      <td>InternalMedicine</td>\n",
       "      <td>11998.0</td>\n",
       "      <td>1426.0</td>\n",
       "      <td>0.118853</td>\n",
       "    </tr>\n",
       "    <tr>\n",
       "      <td>6</td>\n",
       "      <td>Gastroenterology</td>\n",
       "      <td>511.0</td>\n",
       "      <td>60.0</td>\n",
       "      <td>0.117417</td>\n",
       "    </tr>\n",
       "    <tr>\n",
       "      <td>12</td>\n",
       "      <td>Pulmonology</td>\n",
       "      <td>768.0</td>\n",
       "      <td>89.0</td>\n",
       "      <td>0.115885</td>\n",
       "    </tr>\n",
       "    <tr>\n",
       "      <td>5</td>\n",
       "      <td>Orthopedics</td>\n",
       "      <td>1270.0</td>\n",
       "      <td>143.0</td>\n",
       "      <td>0.112598</td>\n",
       "    </tr>\n",
       "    <tr>\n",
       "      <td>4</td>\n",
       "      <td>Surgery-General</td>\n",
       "      <td>2821.0</td>\n",
       "      <td>314.0</td>\n",
       "      <td>0.111308</td>\n",
       "    </tr>\n",
       "    <tr>\n",
       "      <td>30</td>\n",
       "      <td>Podiatry</td>\n",
       "      <td>89.0</td>\n",
       "      <td>9.0</td>\n",
       "      <td>0.101124</td>\n",
       "    </tr>\n",
       "    <tr>\n",
       "      <td>35</td>\n",
       "      <td>Surgery-Thoracic</td>\n",
       "      <td>109.0</td>\n",
       "      <td>11.0</td>\n",
       "      <td>0.100917</td>\n",
       "    </tr>\n",
       "    <tr>\n",
       "      <td>22</td>\n",
       "      <td>Urology</td>\n",
       "      <td>627.0</td>\n",
       "      <td>63.0</td>\n",
       "      <td>0.100478</td>\n",
       "    </tr>\n",
       "    <tr>\n",
       "      <td>59</td>\n",
       "      <td>Radiologist</td>\n",
       "      <td>1045.0</td>\n",
       "      <td>99.0</td>\n",
       "      <td>0.094737</td>\n",
       "    </tr>\n",
       "    <tr>\n",
       "      <td>29</td>\n",
       "      <td>Psychology</td>\n",
       "      <td>93.0</td>\n",
       "      <td>8.0</td>\n",
       "      <td>0.086022</td>\n",
       "    </tr>\n",
       "    <tr>\n",
       "      <td>3</td>\n",
       "      <td>Cardiology</td>\n",
       "      <td>4807.0</td>\n",
       "      <td>405.0</td>\n",
       "      <td>0.084252</td>\n",
       "    </tr>\n",
       "    <tr>\n",
       "      <td>9</td>\n",
       "      <td>Orthopedics-Reconstructive</td>\n",
       "      <td>1165.0</td>\n",
       "      <td>87.0</td>\n",
       "      <td>0.074678</td>\n",
       "    </tr>\n",
       "    <tr>\n",
       "      <td>13</td>\n",
       "      <td>Surgery-Neuro</td>\n",
       "      <td>440.0</td>\n",
       "      <td>32.0</td>\n",
       "      <td>0.072727</td>\n",
       "    </tr>\n",
       "    <tr>\n",
       "      <td>64</td>\n",
       "      <td>Hospitalist</td>\n",
       "      <td>55.0</td>\n",
       "      <td>4.0</td>\n",
       "      <td>0.072727</td>\n",
       "    </tr>\n",
       "    <tr>\n",
       "      <td>7</td>\n",
       "      <td>Surgery-Cardiovascular/Thoracic</td>\n",
       "      <td>607.0</td>\n",
       "      <td>41.0</td>\n",
       "      <td>0.067545</td>\n",
       "    </tr>\n",
       "    <tr>\n",
       "      <td>16</td>\n",
       "      <td>Pediatrics</td>\n",
       "      <td>239.0</td>\n",
       "      <td>16.0</td>\n",
       "      <td>0.066946</td>\n",
       "    </tr>\n",
       "    <tr>\n",
       "      <td>25</td>\n",
       "      <td>Neurology</td>\n",
       "      <td>192.0</td>\n",
       "      <td>12.0</td>\n",
       "      <td>0.062500</td>\n",
       "    </tr>\n",
       "    <tr>\n",
       "      <td>53</td>\n",
       "      <td>Surgery-Cardiovascular</td>\n",
       "      <td>97.0</td>\n",
       "      <td>6.0</td>\n",
       "      <td>0.061856</td>\n",
       "    </tr>\n",
       "    <tr>\n",
       "      <td>21</td>\n",
       "      <td>Endocrinology</td>\n",
       "      <td>112.0</td>\n",
       "      <td>6.0</td>\n",
       "      <td>0.053571</td>\n",
       "    </tr>\n",
       "    <tr>\n",
       "      <td>15</td>\n",
       "      <td>ObstetricsandGynecology</td>\n",
       "      <td>628.0</td>\n",
       "      <td>29.0</td>\n",
       "      <td>0.046178</td>\n",
       "    </tr>\n",
       "    <tr>\n",
       "      <td>20</td>\n",
       "      <td>Pediatrics-CriticalCare</td>\n",
       "      <td>76.0</td>\n",
       "      <td>2.0</td>\n",
       "      <td>0.026316</td>\n",
       "    </tr>\n",
       "    <tr>\n",
       "      <td>18</td>\n",
       "      <td>Otolaryngology</td>\n",
       "      <td>124.0</td>\n",
       "      <td>2.0</td>\n",
       "      <td>0.016129</td>\n",
       "    </tr>\n",
       "    <tr>\n",
       "      <td>0</td>\n",
       "      <td>Pediatrics-Endocrinology</td>\n",
       "      <td>151.0</td>\n",
       "      <td>1.0</td>\n",
       "      <td>0.006623</td>\n",
       "    </tr>\n",
       "    <tr>\n",
       "      <td>31</td>\n",
       "      <td>Gynecology</td>\n",
       "      <td>57.0</td>\n",
       "      <td>0.0</td>\n",
       "      <td>0.000000</td>\n",
       "    </tr>\n",
       "  </tbody>\n",
       "</table>\n",
       "</div>"
      ],
      "text/plain": [
       "                    medical_specialty  num_patients  \\\n",
       "55                         Hematology          55.0   \n",
       "17                Hematology/Oncology         150.0   \n",
       "32                           Oncology         266.0   \n",
       "8                          Nephrology        1072.0   \n",
       "27                          Radiology          51.0   \n",
       "40  PhysicalMedicineandRehabilitation         365.0   \n",
       "50                   Surgery-Vascular         468.0   \n",
       "11                   Emergency/Trauma        5132.0   \n",
       "2              Family/GeneralPractice        6053.0   \n",
       "10                         Psychiatry         723.0   \n",
       "1                    InternalMedicine       11998.0   \n",
       "6                    Gastroenterology         511.0   \n",
       "12                        Pulmonology         768.0   \n",
       "5                         Orthopedics        1270.0   \n",
       "4                     Surgery-General        2821.0   \n",
       "30                           Podiatry          89.0   \n",
       "35                   Surgery-Thoracic         109.0   \n",
       "22                            Urology         627.0   \n",
       "59                        Radiologist        1045.0   \n",
       "29                         Psychology          93.0   \n",
       "3                          Cardiology        4807.0   \n",
       "9          Orthopedics-Reconstructive        1165.0   \n",
       "13                      Surgery-Neuro         440.0   \n",
       "64                        Hospitalist          55.0   \n",
       "7     Surgery-Cardiovascular/Thoracic         607.0   \n",
       "16                         Pediatrics         239.0   \n",
       "25                          Neurology         192.0   \n",
       "53             Surgery-Cardiovascular          97.0   \n",
       "21                      Endocrinology         112.0   \n",
       "15            ObstetricsandGynecology         628.0   \n",
       "20            Pediatrics-CriticalCare          76.0   \n",
       "18                     Otolaryngology         124.0   \n",
       "0            Pediatrics-Endocrinology         151.0   \n",
       "31                         Gynecology          57.0   \n",
       "\n",
       "    num_patients_readmitted_<30_days  proportion_readmitted  \n",
       "55                              16.0               0.290909  \n",
       "17                              33.0               0.220000  \n",
       "32                              50.0               0.187970  \n",
       "8                              192.0               0.179104  \n",
       "27                               8.0               0.156863  \n",
       "40                              53.0               0.145205  \n",
       "50                              66.0               0.141026  \n",
       "11                             655.0               0.127631  \n",
       "2                              756.0               0.124897  \n",
       "10                              90.0               0.124481  \n",
       "1                             1426.0               0.118853  \n",
       "6                               60.0               0.117417  \n",
       "12                              89.0               0.115885  \n",
       "5                              143.0               0.112598  \n",
       "4                              314.0               0.111308  \n",
       "30                               9.0               0.101124  \n",
       "35                              11.0               0.100917  \n",
       "22                              63.0               0.100478  \n",
       "59                              99.0               0.094737  \n",
       "29                               8.0               0.086022  \n",
       "3                              405.0               0.084252  \n",
       "9                               87.0               0.074678  \n",
       "13                              32.0               0.072727  \n",
       "64                               4.0               0.072727  \n",
       "7                               41.0               0.067545  \n",
       "16                              16.0               0.066946  \n",
       "25                              12.0               0.062500  \n",
       "53                               6.0               0.061856  \n",
       "21                               6.0               0.053571  \n",
       "15                              29.0               0.046178  \n",
       "20                               2.0               0.026316  \n",
       "18                               2.0               0.016129  \n",
       "0                                1.0               0.006623  \n",
       "31                               0.0               0.000000  "
      ]
     },
     "execution_count": 51,
     "metadata": {},
     "output_type": "execute_result"
    }
   ],
   "source": [
    "readmission_df[readmission_df['num_patients'] >= 50].sort_values(by='proportion_readmitted', ascending=False)"
   ]
  },
  {
   "cell_type": "markdown",
   "metadata": {},
   "source": [
    "# Part Two - Machine Learning\n",
    "\n",
    "### Building a predictive model to identify patients at risk of readmitting within 30 days"
   ]
  },
  {
   "cell_type": "markdown",
   "metadata": {},
   "source": [
    "#### Pt 1 - Preparing data"
   ]
  },
  {
   "cell_type": "markdown",
   "metadata": {},
   "source": [
    "I made these two methods to add some data on previous admissions.\n",
    "\n",
    "1. time since last admission (if one exists)\n",
    "\n",
    "2. number of previous admissions"
   ]
  },
  {
   "cell_type": "code",
   "execution_count": 52,
   "metadata": {},
   "outputs": [],
   "source": [
    "# returns the number of days since this patien'ts previous admission as of as_of_dt\n",
    "def time_since_last_admission(patient_nbr, as_of_dt, historical_df):\n",
    "    \n",
    "    this_patient_df = historical_df[historical_df['patient_nbr']==patient_nbr]  # make df for this patient's history\n",
    "    this_patient_df = this_patient_df[this_patient_df['admit_date'] < as_of_dt]  # look only at ones prior to observed date\n",
    "    \n",
    "    num_prev = len(this_patient_df)\n",
    "    \n",
    "    if num_prev==0:\n",
    "        return np.nan\n",
    "    \n",
    "    previous_admission = this_patient_df.tail(1)\n",
    "    \n",
    "    delta = relativedelta(as_of_dt, pd.to_datetime(previous_admission['admit_date'].values[0]))\n",
    "    \n",
    "    delta_days = delta.years*365 + delta.months*30 + delta.days  # approximation\n",
    "    return delta_days\n",
    "\n",
    "\n",
    "# returns the total number of previous admissions as of as_of_dt\n",
    "def num_previous_admissions(patient_nbr, as_of_dt, historical_df):\n",
    "    \n",
    "    this_patient_df = historical_df[historical_df['patient_nbr']==patient_nbr]  # make df for this patient's history\n",
    "    this_patient_df = this_patient_df[this_patient_df['admit_date'] < as_of_dt]  # look only at ones prior to observed date\n",
    "    \n",
    "    num_prev = len(this_patient_df)\n",
    "    \n",
    "    return num_prev\n"
   ]
  },
  {
   "cell_type": "code",
   "execution_count": 53,
   "metadata": {},
   "outputs": [],
   "source": [
    "from sklearn.preprocessing import scale"
   ]
  },
  {
   "cell_type": "code",
   "execution_count": 54,
   "metadata": {},
   "outputs": [],
   "source": [
    "# takes raw-ish dataframe df and returns a dataframe X for model building\n",
    "def process_data(df):\n",
    "    X = pd.DataFrame()\n",
    "    \n",
    "    X['race'] = df['race'].astype('category')\n",
    "    X['gender'] = df['gender'].astype('category')\n",
    "    X['time_in_hospital'] = df['time_in_hospital'].astype(int)\n",
    "    X['payer_code'] = df['payer_code'].astype('category')\n",
    "    X['medical_specialty'] = df['medical_specialty'].astype('category')\n",
    "    X['num_lab_procedures'] = scale(df['num_lab_procedures'].values)\n",
    "    X['num_procedures'] = df['num_procedures'].astype(int)\n",
    "    X['num_medications'] = scale(df['num_medications'].values)\n",
    "    X['number_outpatient'] = scale(df['number_outpatient'].values)\n",
    "    X['number_emergency'] = scale(df['number_emergency'].values)\n",
    "    X['diag_1'] = df['diag_1'].astype('category')\n",
    "    X['diag_2'] = df['diag_2'].astype('category')\n",
    "    X['diag_3'] = df['diag_3'].astype('category')\n",
    "    \n",
    "    X['number_diagnoses'] = df['number_diagnoses'].astype(int)\n",
    "    X['max_glu_serum'] = df['max_glu_serum'].astype('category')\n",
    "    X['A1Cresult'] = df['A1Cresult'].astype('category')\n",
    "    X['metformin'] = df['metformin'].astype('category')\n",
    "    X['repaglinide'] = df['repaglinide'].astype('category')\n",
    "    X['nateglinide'] = df['nateglinide'].astype('category')\n",
    "    X['chlorpropamide'] = df['chlorpropamide'].astype('category')  # extreme imbalance-- all but 85 are 'No'\n",
    "    X['glimepiride'] = df['glimepiride'].astype('category')\n",
    "    # X['acetohexamide'] = df['acetohexamide'].astype('category')  # all but 1 is 'No' -- ignoring this feature\n",
    "    X['glipizide'] = df['glipizide'].astype('category')\n",
    "    X['glyburide'] = df['glyburide'].astype('category')\n",
    "    # X['tolbutamide'] = df['tolbutamide'].astype('category')  # all but 23 = 'No', ignoring\n",
    "    X['pioglitazone'] = df['pioglitazone'].astype('category')\n",
    "    X['rosiglitazone'] = df['rosiglitazone'].astype('category')\n",
    "    X['acarbose'] = df['acarbose'].astype('category')\n",
    "    X['miglitol'] = df['miglitol'].astype('category')\n",
    "    # X['troglitazone'] = df['troglitazone'].astype('category')  # all but 3 = 'No', ignoring\n",
    "    X['tolazamide'] = df['tolazamide'].astype('category')\n",
    "    X['examide'] = df['examide'].astype('category')  # all are 'No', ignoring\n",
    "    # X['citoglipton'] = df['citoglipton'].astype('category')  # all are 'No', ignoring\n",
    "    X['insulin'] = df['insulin'].astype('category')\n",
    "    X['glyburide-metformin'] = df['glyburide-metformin'].astype('category')\n",
    "    X['glipizide-metformin'] = df['glipizide-metformin'].astype('category')  # all but 13 'No', ignoring\n",
    "    # X['glimepiride-pioglitazone'] = df['glimepiride-pioglitazone'].astype('category')  # all but 1 'No', ignoring\n",
    "    # X['metformin-rosiglitazone'] = df['metformin-rosiglitazone'].astype('category')  # all but 2 'No', ignoring\n",
    "    # X['metformin-pioglitazone'] = df['metformin-pioglitazone'].astype('category')  # all but 1 'No', ignoring\n",
    "    X['change'] = df['change'].astype('category')\n",
    "    X['diabetesMed'] = df['diabetesMed'].astype('category')\n",
    "    \n",
    "    X['admission_type'] = df['admission_type'].astype('category')\n",
    "    X['admission_source'] = df['admission_source'].astype('category')\n",
    "\n",
    "    X['age_at_admit'] = scale(df['age_at_admit'].values)\n",
    "    X['discharge_disposition'] = df['discharge_disposition'].astype('category')\n",
    "    \n",
    "    \n",
    "    #### new features ####\n",
    "    \n",
    "    \n",
    "    # admission time of day\n",
    "    X['admit_time_of_day'] = df['admit_date'].apply(lambda x: x.hour)  # temp\n",
    "    X['admit_hour_sin'] = np.sin(2 * np.pi * X['admit_time_of_day']/23.0)\n",
    "    X['admit_hour_cos'] = np.cos(2 * np.pi * X['admit_time_of_day']/23.0)  # sin and cos to handle cyclical nature of time\n",
    "    X.drop(columns=['admit_time_of_day'], axis=1, inplace=True)\n",
    "    \n",
    "    # admission weekday\n",
    "    X['admit_weekday'] = df['admit_date'].apply(lambda x: x.weekday()).astype('category')\n",
    "    \n",
    "    # X['admit_month'] = df['admit_date'].apply(lambda x: x.month)\n",
    "    # X['admit_month_sin'] = np.sin(2 * np.pi * X['admit_month']/11.0)\n",
    "    # X['admit_month_cos'] = np.cos(2 * np.pi * X['admit_month']/11.0)\n",
    "    # X.drop(columns=['admit_month'], axis=1, inplace=True)\n",
    "\n",
    "    # these sections take a while.\n",
    "    print('Finding number of previous admissions...')\n",
    "    X['num_previous_admissions'] = [num_previous_admissions(p, d, data) for p, d in zip(data['patient_nbr'], data['admit_date'])]\n",
    "    X['num_previous_admissions'].fillna(max(X['num_previous_admissions'].dropna().values), inplace=True)\n",
    "    \n",
    "    print('Finding difference between last admissions...')\n",
    "    X['time_since_last_admission'] = [time_since_last_admission(p, d, data) for p, d in zip(data['patient_nbr'], data['admit_date'])]\n",
    "    X['time_since_last_admission'].fillna(X['time_since_last_admission'].dropna().values.max(), inplace=True)\n",
    "    X['time_since_last_admission'] = X['time_since_last_admission'].replace(0, max(X['time_since_last_admission'].dropna().values))\n",
    "    \n",
    "    \n",
    "    return X"
   ]
  },
  {
   "cell_type": "code",
   "execution_count": 55,
   "metadata": {},
   "outputs": [
    {
     "name": "stdout",
     "output_type": "stream",
     "text": [
      "Finding number of previous admissions...\n",
      "Finding difference between last admissions...\n",
      "Wall time: 23min 20s\n"
     ]
    }
   ],
   "source": [
    "%%time\n",
    "\n",
    "X = process_data(data)"
   ]
  },
  {
   "cell_type": "code",
   "execution_count": 56,
   "metadata": {},
   "outputs": [
    {
     "data": {
      "text/plain": [
       "(101766, 43)"
      ]
     },
     "execution_count": 56,
     "metadata": {},
     "output_type": "execute_result"
    }
   ],
   "source": [
    "X.shape"
   ]
  },
  {
   "cell_type": "code",
   "execution_count": 57,
   "metadata": {},
   "outputs": [
    {
     "data": {
      "text/plain": [
       "race                         category\n",
       "gender                       category\n",
       "time_in_hospital                int32\n",
       "payer_code                   category\n",
       "medical_specialty            category\n",
       "num_lab_procedures            float64\n",
       "num_procedures                  int32\n",
       "num_medications               float64\n",
       "number_outpatient             float64\n",
       "number_emergency              float64\n",
       "diag_1                       category\n",
       "diag_2                       category\n",
       "diag_3                       category\n",
       "number_diagnoses                int32\n",
       "max_glu_serum                category\n",
       "A1Cresult                    category\n",
       "metformin                    category\n",
       "repaglinide                  category\n",
       "nateglinide                  category\n",
       "chlorpropamide               category\n",
       "glimepiride                  category\n",
       "glipizide                    category\n",
       "glyburide                    category\n",
       "pioglitazone                 category\n",
       "rosiglitazone                category\n",
       "acarbose                     category\n",
       "miglitol                     category\n",
       "tolazamide                   category\n",
       "examide                      category\n",
       "insulin                      category\n",
       "glyburide-metformin          category\n",
       "glipizide-metformin          category\n",
       "change                       category\n",
       "diabetesMed                  category\n",
       "admission_type               category\n",
       "admission_source             category\n",
       "age_at_admit                  float64\n",
       "discharge_disposition        category\n",
       "admit_hour_sin                float64\n",
       "admit_hour_cos                float64\n",
       "admit_weekday                category\n",
       "num_previous_admissions         int64\n",
       "time_since_last_admission     float64\n",
       "dtype: object"
      ]
     },
     "execution_count": 57,
     "metadata": {},
     "output_type": "execute_result"
    }
   ],
   "source": [
    "X.dtypes"
   ]
  },
  {
   "cell_type": "markdown",
   "metadata": {},
   "source": [
    "#### Encoding target label"
   ]
  },
  {
   "cell_type": "code",
   "execution_count": 58,
   "metadata": {},
   "outputs": [],
   "source": [
    "y = data['readmitted'].apply(lambda x: 1 if x == '<30' else 0)"
   ]
  },
  {
   "cell_type": "markdown",
   "metadata": {},
   "source": [
    "#### Saving data"
   ]
  },
  {
   "cell_type": "code",
   "execution_count": 59,
   "metadata": {},
   "outputs": [],
   "source": [
    "import pickle as pk"
   ]
  },
  {
   "cell_type": "code",
   "execution_count": 60,
   "metadata": {},
   "outputs": [],
   "source": [
    "# another storage technique preserving data types\n",
    "with open('X.pk', 'wb') as f:\n",
    "    pk.dump(X, f)\n",
    "with open('labels.pk', 'wb') as f:\n",
    "    pk.dump(y, f)"
   ]
  },
  {
   "cell_type": "code",
   "execution_count": 61,
   "metadata": {},
   "outputs": [],
   "source": [
    "import seaborn as sn\n",
    "from sklearn.metrics import confusion_matrix"
   ]
  },
  {
   "cell_type": "code",
   "execution_count": 62,
   "metadata": {},
   "outputs": [],
   "source": [
    "from sklearn.model_selection import train_test_split\n",
    "from sklearn.model_selection import RandomizedSearchCV\n",
    "from sklearn.metrics import accuracy_score, precision_score, recall_score, roc_auc_score\n",
    "from sklearn.metrics import plot_confusion_matrix"
   ]
  },
  {
   "cell_type": "code",
   "execution_count": 63,
   "metadata": {},
   "outputs": [
    {
     "data": {
      "text/plain": [
       "Index(['race', 'gender', 'time_in_hospital', 'payer_code', 'medical_specialty',\n",
       "       'num_lab_procedures', 'num_procedures', 'num_medications',\n",
       "       'number_outpatient', 'number_emergency', 'diag_1', 'diag_2', 'diag_3',\n",
       "       'number_diagnoses', 'max_glu_serum', 'A1Cresult', 'metformin',\n",
       "       'repaglinide', 'nateglinide', 'chlorpropamide', 'glimepiride',\n",
       "       'glipizide', 'glyburide', 'pioglitazone', 'rosiglitazone', 'acarbose',\n",
       "       'miglitol', 'tolazamide', 'examide', 'insulin', 'glyburide_metformin',\n",
       "       'glipizide_metformin', 'change', 'diabetesMed', 'admission_type',\n",
       "       'admission_source', 'age_at_admit', 'discharge_disposition',\n",
       "       'admit_hour_sin', 'admit_hour_cos', 'admit_weekday',\n",
       "       'num_previous_admissions', 'time_since_last_admission'],\n",
       "      dtype='object')"
      ]
     },
     "execution_count": 63,
     "metadata": {},
     "output_type": "execute_result"
    }
   ],
   "source": [
    "X.columns = [\"\".join (c if c.isalnum() else \"_\" for c in str(x)) for x in X.columns]\n",
    "X.columns"
   ]
  },
  {
   "cell_type": "code",
   "execution_count": 64,
   "metadata": {},
   "outputs": [],
   "source": [
    "# Displays various evaluation metrics\n",
    "def evaluate_model_predictions(y_pred, y_labels):\n",
    "    \n",
    "    y_pred_classes = [1 if p>=.5 else 0 for p in y_pred]\n",
    "    \n",
    "    accuracy = accuracy_score(y_pred=y_pred_classes, y_true=y_labels)\n",
    "    precision = precision_score(y_pred=y_pred_classes, y_true=y_labels)\n",
    "    recall = recall_score(y_pred=y_pred_classes, y_true=y_labels)\n",
    "    roc_auc = roc_auc_score(y_score=y_pred, y_true=y_labels)\n",
    "\n",
    "    print('Accuracy:\\t{}'.format(round(accuracy, 4)))\n",
    "    print('Precision:\\t{}'.format(round(precision, 4)))\n",
    "    print('Recall:\\t\\t{}'.format(round(recall, 4)))\n",
    "    print('ROC_AUC:\\t{}'.format(round(roc_auc, 4)))"
   ]
  },
  {
   "cell_type": "markdown",
   "metadata": {},
   "source": [
    "#### Pt. 2 - LightGBM"
   ]
  },
  {
   "cell_type": "code",
   "execution_count": 65,
   "metadata": {},
   "outputs": [],
   "source": [
    "X_train, X_test, y_train, y_test = train_test_split(X, y, stratify=y, test_size=0.2, random_state=18)"
   ]
  },
  {
   "cell_type": "code",
   "execution_count": 66,
   "metadata": {},
   "outputs": [],
   "source": [
    "import lightgbm as lgb\n",
    "from lightgbm import LGBMClassifier"
   ]
  },
  {
   "cell_type": "code",
   "execution_count": 67,
   "metadata": {},
   "outputs": [],
   "source": [
    "dataset_train = lgb.Dataset(X_train, y_train, free_raw_data=False)\n",
    "dataset_val = lgb.Dataset(X_test, y_test, free_raw_data=False)"
   ]
  },
  {
   "cell_type": "markdown",
   "metadata": {},
   "source": [
    "Base model"
   ]
  },
  {
   "cell_type": "code",
   "execution_count": 68,
   "metadata": {
    "scrolled": true
   },
   "outputs": [
    {
     "name": "stdout",
     "output_type": "stream",
     "text": [
      "[1]\tvalid_0's auc: 0.624033\n",
      "[2]\tvalid_0's auc: 0.636668\n",
      "[3]\tvalid_0's auc: 0.638442\n",
      "[4]\tvalid_0's auc: 0.639562\n",
      "[5]\tvalid_0's auc: 0.644243\n",
      "[6]\tvalid_0's auc: 0.646733\n",
      "[7]\tvalid_0's auc: 0.648995\n",
      "[8]\tvalid_0's auc: 0.649608\n",
      "[9]\tvalid_0's auc: 0.651646\n",
      "[10]\tvalid_0's auc: 0.653842\n",
      "[11]\tvalid_0's auc: 0.658643\n",
      "[12]\tvalid_0's auc: 0.659934\n",
      "[13]\tvalid_0's auc: 0.660788\n",
      "[14]\tvalid_0's auc: 0.663493\n",
      "[15]\tvalid_0's auc: 0.664517\n",
      "[16]\tvalid_0's auc: 0.665848\n",
      "[17]\tvalid_0's auc: 0.667306\n",
      "[18]\tvalid_0's auc: 0.667602\n",
      "[19]\tvalid_0's auc: 0.668404\n",
      "[20]\tvalid_0's auc: 0.669616\n",
      "[21]\tvalid_0's auc: 0.670031\n",
      "[22]\tvalid_0's auc: 0.670083\n",
      "[23]\tvalid_0's auc: 0.670486\n",
      "[24]\tvalid_0's auc: 0.671367\n",
      "[25]\tvalid_0's auc: 0.671793\n",
      "[26]\tvalid_0's auc: 0.671635\n",
      "[27]\tvalid_0's auc: 0.672024\n",
      "[28]\tvalid_0's auc: 0.672009\n",
      "[29]\tvalid_0's auc: 0.672062\n",
      "[30]\tvalid_0's auc: 0.672567\n",
      "[31]\tvalid_0's auc: 0.672048\n",
      "[32]\tvalid_0's auc: 0.672089\n",
      "[33]\tvalid_0's auc: 0.672004\n",
      "[34]\tvalid_0's auc: 0.672806\n",
      "[35]\tvalid_0's auc: 0.67311\n",
      "[36]\tvalid_0's auc: 0.673473\n",
      "[37]\tvalid_0's auc: 0.673834\n",
      "[38]\tvalid_0's auc: 0.673976\n",
      "[39]\tvalid_0's auc: 0.673985\n",
      "[40]\tvalid_0's auc: 0.673821\n",
      "[41]\tvalid_0's auc: 0.673663\n",
      "[42]\tvalid_0's auc: 0.67326\n",
      "[43]\tvalid_0's auc: 0.673124\n",
      "[44]\tvalid_0's auc: 0.672848\n",
      "[45]\tvalid_0's auc: 0.672903\n",
      "[46]\tvalid_0's auc: 0.673017\n",
      "[47]\tvalid_0's auc: 0.673209\n",
      "[48]\tvalid_0's auc: 0.673114\n",
      "[49]\tvalid_0's auc: 0.67324\n",
      "[50]\tvalid_0's auc: 0.673191\n",
      "[51]\tvalid_0's auc: 0.673126\n",
      "[52]\tvalid_0's auc: 0.673388\n",
      "[53]\tvalid_0's auc: 0.673382\n",
      "[54]\tvalid_0's auc: 0.673412\n",
      "[55]\tvalid_0's auc: 0.673348\n",
      "[56]\tvalid_0's auc: 0.673238\n",
      "[57]\tvalid_0's auc: 0.673346\n",
      "[58]\tvalid_0's auc: 0.673087\n",
      "[59]\tvalid_0's auc: 0.673392\n",
      "[60]\tvalid_0's auc: 0.673361\n",
      "[61]\tvalid_0's auc: 0.67309\n",
      "[62]\tvalid_0's auc: 0.673292\n",
      "[63]\tvalid_0's auc: 0.673469\n",
      "[64]\tvalid_0's auc: 0.67327\n",
      "[65]\tvalid_0's auc: 0.673267\n",
      "[66]\tvalid_0's auc: 0.673244\n",
      "[67]\tvalid_0's auc: 0.673459\n",
      "[68]\tvalid_0's auc: 0.673457\n",
      "[69]\tvalid_0's auc: 0.673415\n",
      "[70]\tvalid_0's auc: 0.673257\n",
      "[71]\tvalid_0's auc: 0.673362\n",
      "[72]\tvalid_0's auc: 0.673239\n",
      "[73]\tvalid_0's auc: 0.673186\n",
      "[74]\tvalid_0's auc: 0.673373\n",
      "[75]\tvalid_0's auc: 0.67316\n",
      "[76]\tvalid_0's auc: 0.673067\n",
      "[77]\tvalid_0's auc: 0.672923\n",
      "[78]\tvalid_0's auc: 0.673054\n",
      "[79]\tvalid_0's auc: 0.673512\n",
      "[80]\tvalid_0's auc: 0.673576\n",
      "[81]\tvalid_0's auc: 0.673428\n",
      "[82]\tvalid_0's auc: 0.673324\n",
      "[83]\tvalid_0's auc: 0.673146\n",
      "[84]\tvalid_0's auc: 0.67304\n",
      "[85]\tvalid_0's auc: 0.67295\n",
      "[86]\tvalid_0's auc: 0.672875\n",
      "[87]\tvalid_0's auc: 0.672957\n",
      "[88]\tvalid_0's auc: 0.672967\n",
      "[89]\tvalid_0's auc: 0.672833\n",
      "[90]\tvalid_0's auc: 0.672682\n",
      "[91]\tvalid_0's auc: 0.672786\n",
      "[92]\tvalid_0's auc: 0.672652\n",
      "[93]\tvalid_0's auc: 0.672933\n",
      "[94]\tvalid_0's auc: 0.672842\n",
      "[95]\tvalid_0's auc: 0.672718\n",
      "[96]\tvalid_0's auc: 0.672576\n",
      "[97]\tvalid_0's auc: 0.672636\n",
      "[98]\tvalid_0's auc: 0.67268\n",
      "[99]\tvalid_0's auc: 0.672711\n",
      "[100]\tvalid_0's auc: 0.672826\n"
     ]
    }
   ],
   "source": [
    "lgb_base = LGBMClassifier()\n",
    "\n",
    "param = {'num_leaves': 5, \n",
    "         'objective': 'binary',\n",
    "         'metric': 'auc'}\n",
    "num_round = 100\n",
    "\n",
    "best_lgb_base = lgb.train(param, dataset_train, num_round, valid_sets=[dataset_val])"
   ]
  },
  {
   "cell_type": "code",
   "execution_count": 69,
   "metadata": {},
   "outputs": [
    {
     "name": "stdout",
     "output_type": "stream",
     "text": [
      "Accuracy:\t0.8889\n",
      "Precision:\t1.0\n",
      "Recall:\t\t0.0044\n",
      "ROC_AUC:\t0.6728\n"
     ]
    }
   ],
   "source": [
    "y_pred = best_lgb_base.predict(X_test)\n",
    "\n",
    "evaluate_model_predictions(y_pred, y_test)"
   ]
  },
  {
   "cell_type": "markdown",
   "metadata": {},
   "source": [
    "Important model features\n",
    "\n",
    "Unsurprisingly, a patient's initial diagnoses are extremely telling of early readmission risks. Other notable features include the number of procedures done, age, and discharge disposition.\n",
    "\n",
    "Interestingly, the features I created seemed to be significant as well. Time of day of discharge seems significant, as well as the number of previous admissions + time since last admission."
   ]
  },
  {
   "cell_type": "code",
   "execution_count": 70,
   "metadata": {},
   "outputs": [
    {
     "data": {
      "text/plain": [
       "<BarContainer object of 43 artists>"
      ]
     },
     "execution_count": 70,
     "metadata": {},
     "output_type": "execute_result"
    },
    {
     "data": {
      "image/png": "[encoded data removed]",
      "text/plain": [
       "<Figure size 432x288 with 1 Axes>"
      ]
     },
     "metadata": {
      "needs_background": "light"
     },
     "output_type": "display_data"
    }
   ],
   "source": [
    "plt.xticks(rotation=90)\n",
    "plt.bar(X.columns.values, best_lgb_base.feature_importance())"
   ]
  },
  {
   "cell_type": "markdown",
   "metadata": {},
   "source": [
    "Base LightGBM model has perfect precision but terrible recall--the model misses way too many readmissions.\n",
    "On the other side, if the model predicts readmission.\n",
    "\n",
    "Let's see if another model can improve on that."
   ]
  },
  {
   "cell_type": "markdown",
   "metadata": {},
   "source": [
    "### Tensorflow"
   ]
  },
  {
   "cell_type": "markdown",
   "metadata": {},
   "source": [
    "Before going forward, we need to adjust the training data.\n",
    "\n",
    "LightGBM can handle categorical features directly without one-hot encoding beforehand--to work with other models I will create dummy variables for those categorical features."
   ]
  },
  {
   "cell_type": "code",
   "execution_count": 71,
   "metadata": {},
   "outputs": [
    {
     "data": {
      "text/plain": [
       "(101766, 2517)"
      ]
     },
     "execution_count": 71,
     "metadata": {},
     "output_type": "execute_result"
    }
   ],
   "source": [
    "X_dummies = pd.get_dummies(X, dummy_na=True)\n",
    "X_dummies.shape"
   ]
  },
  {
   "cell_type": "code",
   "execution_count": 72,
   "metadata": {},
   "outputs": [
    {
     "data": {
      "text/plain": [
       "False"
      ]
     },
     "execution_count": 72,
     "metadata": {},
     "output_type": "execute_result"
    }
   ],
   "source": [
    "any(X_dummies.isna().any())"
   ]
  },
  {
   "cell_type": "code",
   "execution_count": 73,
   "metadata": {},
   "outputs": [
    {
     "data": {
      "text/plain": [
       "40"
      ]
     },
     "execution_count": 73,
     "metadata": {},
     "output_type": "execute_result"
    }
   ],
   "source": [
    "# releasing lightgbm datasets\n",
    "del dataset_train\n",
    "del dataset_val\n",
    "gc.collect()"
   ]
  },
  {
   "cell_type": "code",
   "execution_count": 74,
   "metadata": {},
   "outputs": [
    {
     "data": {
      "text/plain": [
       "20"
      ]
     },
     "execution_count": 74,
     "metadata": {},
     "output_type": "execute_result"
    }
   ],
   "source": [
    "del X_train, X_test, y_train, y_test\n",
    "gc.collect()"
   ]
  },
  {
   "cell_type": "markdown",
   "metadata": {},
   "source": [
    "Making new train-test split with one-hot-encoded categorical data"
   ]
  },
  {
   "cell_type": "code",
   "execution_count": 75,
   "metadata": {},
   "outputs": [],
   "source": [
    "X_train, X_test, y_train, y_test = train_test_split(X_dummies, y, stratify=y, test_size=0.2, random_state=18)"
   ]
  },
  {
   "cell_type": "code",
   "execution_count": null,
   "metadata": {},
   "outputs": [],
   "source": []
  },
  {
   "cell_type": "code",
   "execution_count": 76,
   "metadata": {},
   "outputs": [],
   "source": [
    "from tensorflow import keras\n",
    "\n",
    "from tensorflow.keras.models import Sequential\n",
    "from tensorflow.keras.layers import Dense\n",
    "\n",
    "from tensorflow.keras.optimizers import Adam\n",
    "\n",
    "from tensorflow.keras.backend import clear_session"
   ]
  },
  {
   "cell_type": "code",
   "execution_count": 77,
   "metadata": {},
   "outputs": [
    {
     "name": "stdout",
     "output_type": "stream",
     "text": [
      "Model: \"sequential\"\n",
      "_________________________________________________________________\n",
      "Layer (type)                 Output Shape              Param #   \n",
      "=================================================================\n",
      "dense (Dense)                (None, 2517)              6337806   \n",
      "_________________________________________________________________\n",
      "dense_1 (Dense)              (None, 1500)              3777000   \n",
      "_________________________________________________________________\n",
      "dense_2 (Dense)              (None, 1000)              1501000   \n",
      "_________________________________________________________________\n",
      "dense_3 (Dense)              (None, 1)                 1001      \n",
      "=================================================================\n",
      "Total params: 11,616,807\n",
      "Trainable params: 11,616,807\n",
      "Non-trainable params: 0\n",
      "_________________________________________________________________\n"
     ]
    }
   ],
   "source": [
    "model = Sequential()\n",
    "model.add(Dense(X_dummies.shape[1], input_dim=X_dummies.shape[1], activation='relu'))\n",
    "model.add(Dense(1500, activation='relu'))\n",
    "model.add(Dense(1000, activation='relu'))\n",
    "model.add(Dense(1, activation='sigmoid'))\n",
    "\n",
    "model.summary()"
   ]
  },
  {
   "cell_type": "code",
   "execution_count": 78,
   "metadata": {},
   "outputs": [],
   "source": [
    "model.compile(optimizer='adam', \n",
    "              loss='binary_crossentropy',\n",
    "              metrics=['accuracy'])"
   ]
  },
  {
   "cell_type": "code",
   "execution_count": 79,
   "metadata": {},
   "outputs": [
    {
     "name": "stdout",
     "output_type": "stream",
     "text": [
      "Train on 81412 samples, validate on 20354 samples\n",
      "Epoch 1/10\n",
      "81412/81412 [==============================] - 14s 177us/sample - loss: 1.3780 - accuracy: 0.8813 - val_loss: 0.3407 - val_accuracy: 0.8883\n",
      "Epoch 2/10\n",
      "81412/81412 [==============================] - 14s 171us/sample - loss: 0.3458 - accuracy: 0.8883 - val_loss: 0.3841 - val_accuracy: 0.8884\n",
      "Epoch 3/10\n",
      "81412/81412 [==============================] - 14s 175us/sample - loss: 0.3444 - accuracy: 0.8884 - val_loss: 0.3541 - val_accuracy: 0.8874\n",
      "Epoch 4/10\n",
      "81412/81412 [==============================] - 14s 176us/sample - loss: 0.3406 - accuracy: 0.8884 - val_loss: 0.3430 - val_accuracy: 0.8875\n",
      "Epoch 5/10\n",
      "81412/81412 [==============================] - 14s 174us/sample - loss: 0.3385 - accuracy: 0.8885 - val_loss: 0.3435 - val_accuracy: 0.8881\n",
      "Epoch 6/10\n",
      "81412/81412 [==============================] - 14s 168us/sample - loss: 0.3359 - accuracy: 0.8893 - val_loss: 0.3457 - val_accuracy: 0.8855\n",
      "Epoch 7/10\n",
      "81412/81412 [==============================] - 14s 173us/sample - loss: 0.3322 - accuracy: 0.8905 - val_loss: 0.3636 - val_accuracy: 0.8842\n",
      "Epoch 8/10\n",
      "81412/81412 [==============================] - 14s 171us/sample - loss: 0.3286 - accuracy: 0.8924 - val_loss: 0.3556 - val_accuracy: 0.8798\n",
      "Epoch 9/10\n",
      "81412/81412 [==============================] - 14s 173us/sample - loss: 0.3244 - accuracy: 0.8940 - val_loss: 0.3708 - val_accuracy: 0.8842\n",
      "Epoch 10/10\n",
      "81412/81412 [==============================] - 14s 172us/sample - loss: 0.3205 - accuracy: 0.8960 - val_loss: 0.3681 - val_accuracy: 0.8789\n"
     ]
    },
    {
     "data": {
      "text/plain": [
       "<tensorflow.python.keras.callbacks.History at 0x1d12cb36f08>"
      ]
     },
     "execution_count": 79,
     "metadata": {},
     "output_type": "execute_result"
    }
   ],
   "source": [
    "model.fit(X_train, y_train, epochs=10, verbose=1, validation_data=(X_test, y_test))"
   ]
  },
  {
   "cell_type": "code",
   "execution_count": 80,
   "metadata": {},
   "outputs": [
    {
     "name": "stdout",
     "output_type": "stream",
     "text": [
      "Accuracy:\t0.8789\n",
      "Precision:\t0.2988\n",
      "Recall:\t\t0.0634\n",
      "ROC_AUC:\t0.6195\n"
     ]
    }
   ],
   "source": [
    "y_pred = model.predict(X_test)\n",
    "evaluate_model_predictions(y_pred, y_test)"
   ]
  },
  {
   "cell_type": "markdown",
   "metadata": {},
   "source": [
    "### Tensorflow pt. 2 - Undersampling"
   ]
  },
  {
   "cell_type": "code",
   "execution_count": 81,
   "metadata": {},
   "outputs": [
    {
     "name": "stderr",
     "output_type": "stream",
     "text": [
      "Using TensorFlow backend.\n"
     ]
    }
   ],
   "source": [
    "from imblearn.under_sampling import RandomUnderSampler"
   ]
  },
  {
   "cell_type": "code",
   "execution_count": 82,
   "metadata": {},
   "outputs": [],
   "source": [
    "rus = RandomUnderSampler(random_state=18)\n",
    "X_res, y_res = rus.fit_resample(X_train, y_train)"
   ]
  },
  {
   "cell_type": "code",
   "execution_count": 83,
   "metadata": {},
   "outputs": [
    {
     "name": "stdout",
     "output_type": "stream",
     "text": [
      "Resampled dataset shape Counter({0: 9086, 1: 9086})\n"
     ]
    }
   ],
   "source": [
    "print('Resampled dataset shape %s' % Counter(y_res))"
   ]
  },
  {
   "cell_type": "markdown",
   "metadata": {},
   "source": [
    "Train same data on resampled data"
   ]
  },
  {
   "cell_type": "code",
   "execution_count": 85,
   "metadata": {},
   "outputs": [
    {
     "name": "stdout",
     "output_type": "stream",
     "text": [
      "Train on 18172 samples, validate on 20354 samples\n",
      "Epoch 1/10\n",
      "18172/18172 [==============================] - 4s 242us/sample - loss: 0.6353 - accuracy: 0.6010 - val_loss: 0.6842 - val_accuracy: 0.7761\n",
      "Epoch 2/10\n",
      "18172/18172 [==============================] - 4s 240us/sample - loss: 0.6110 - accuracy: 0.6187 - val_loss: 0.6585 - val_accuracy: 0.7795\n",
      "Epoch 3/10\n",
      "18172/18172 [==============================] - 4s 241us/sample - loss: 0.6028 - accuracy: 0.6228 - val_loss: 0.6785 - val_accuracy: 0.7682\n",
      "Epoch 4/10\n",
      "18172/18172 [==============================] - 4s 246us/sample - loss: 0.5954 - accuracy: 0.6277 - val_loss: 0.7383 - val_accuracy: 0.7808\n",
      "Epoch 5/10\n",
      "18172/18172 [==============================] - 4s 243us/sample - loss: 0.5888 - accuracy: 0.6336 - val_loss: 0.8330 - val_accuracy: 0.7421\n",
      "Epoch 6/10\n",
      "18172/18172 [==============================] - 4s 244us/sample - loss: 0.5813 - accuracy: 0.6375 - val_loss: 0.8070 - val_accuracy: 0.7392\n",
      "Epoch 7/10\n",
      "18172/18172 [==============================] - 4s 245us/sample - loss: 0.5765 - accuracy: 0.6457 - val_loss: 0.7495 - val_accuracy: 0.7524\n",
      "Epoch 8/10\n",
      "18172/18172 [==============================] - 4s 241us/sample - loss: 0.5846 - accuracy: 0.6317 - val_loss: 0.7894 - val_accuracy: 0.7801\n",
      "Epoch 9/10\n",
      "18172/18172 [==============================] - 4s 242us/sample - loss: 0.5751 - accuracy: 0.6391 - val_loss: 0.9236 - val_accuracy: 0.7527\n",
      "Epoch 10/10\n",
      "18172/18172 [==============================] - 4s 241us/sample - loss: 0.5677 - accuracy: 0.6507 - val_loss: 0.9005 - val_accuracy: 0.7430\n"
     ]
    },
    {
     "data": {
      "text/plain": [
       "<tensorflow.python.keras.callbacks.History at 0x1d3d02d5a88>"
      ]
     },
     "execution_count": 85,
     "metadata": {},
     "output_type": "execute_result"
    }
   ],
   "source": [
    "model.fit(X_res, y_res, epochs=10, verbose=1, validation_data=(X_test, y_test))"
   ]
  },
  {
   "cell_type": "markdown",
   "metadata": {},
   "source": [
    "Evaluate model using original test split--with its original imbalance."
   ]
  },
  {
   "cell_type": "code",
   "execution_count": 86,
   "metadata": {},
   "outputs": [
    {
     "name": "stdout",
     "output_type": "stream",
     "text": [
      "Accuracy:\t0.743\n",
      "Precision:\t0.1721\n",
      "Recall:\t\t0.3421\n",
      "ROC_AUC:\t0.5991\n"
     ]
    }
   ],
   "source": [
    "y_pred = model.predict(X_test)\n",
    "evaluate_model_predictions(y_pred, y_test)"
   ]
  },
  {
   "cell_type": "markdown",
   "metadata": {},
   "source": [
    "### Logistic Regression"
   ]
  },
  {
   "cell_type": "markdown",
   "metadata": {},
   "source": [
    "Last but not least, there's the classic Logistic Regression model. Plain Jane or Ol' Reliable? Let's see..."
   ]
  },
  {
   "cell_type": "code",
   "execution_count": 87,
   "metadata": {},
   "outputs": [],
   "source": [
    "from sklearn.linear_model import LogisticRegression"
   ]
  },
  {
   "cell_type": "code",
   "execution_count": 88,
   "metadata": {},
   "outputs": [],
   "source": [
    "logreg = LogisticRegression()"
   ]
  },
  {
   "cell_type": "code",
   "execution_count": 89,
   "metadata": {},
   "outputs": [
    {
     "name": "stderr",
     "output_type": "stream",
     "text": [
      "C:\\Users\\Garrett\\Anaconda3\\lib\\site-packages\\sklearn\\linear_model\\_logistic.py:940: ConvergenceWarning: lbfgs failed to converge (status=1):\n",
      "STOP: TOTAL NO. of ITERATIONS REACHED LIMIT.\n",
      "\n",
      "Increase the number of iterations (max_iter) or scale the data as shown in:\n",
      "    https://scikit-learn.org/stable/modules/preprocessing.html\n",
      "Please also refer to the documentation for alternative solver options:\n",
      "    https://scikit-learn.org/stable/modules/linear_model.html#logistic-regression\n",
      "  extra_warning_msg=_LOGISTIC_SOLVER_CONVERGENCE_MSG)\n"
     ]
    },
    {
     "data": {
      "text/plain": [
       "LogisticRegression(C=1.0, class_weight=None, dual=False, fit_intercept=True,\n",
       "                   intercept_scaling=1, l1_ratio=None, max_iter=100,\n",
       "                   multi_class='auto', n_jobs=None, penalty='l2',\n",
       "                   random_state=None, solver='lbfgs', tol=0.0001, verbose=0,\n",
       "                   warm_start=False)"
      ]
     },
     "execution_count": 89,
     "metadata": {},
     "output_type": "execute_result"
    }
   ],
   "source": [
    "logreg.fit(X_train, y_train)"
   ]
  },
  {
   "cell_type": "code",
   "execution_count": 90,
   "metadata": {},
   "outputs": [
    {
     "data": {
      "text/plain": [
       "array([[0.88107783, 0.11892217],\n",
       "       [0.91878927, 0.08121073],\n",
       "       [0.86250511, 0.13749489],\n",
       "       [0.93199605, 0.06800395],\n",
       "       [0.83821873, 0.16178127],\n",
       "       [0.80009476, 0.19990524],\n",
       "       [0.84735741, 0.15264259],\n",
       "       [0.91255191, 0.08744809],\n",
       "       [0.8586873 , 0.1413127 ],\n",
       "       [0.92780163, 0.07219837]])"
      ]
     },
     "execution_count": 90,
     "metadata": {},
     "output_type": "execute_result"
    }
   ],
   "source": [
    "y_pred = logreg.predict_proba(X_test)\n",
    "\n",
    "y_pred[:10]"
   ]
  },
  {
   "cell_type": "code",
   "execution_count": 91,
   "metadata": {},
   "outputs": [],
   "source": [
    "y_pred = [p[1] for p in y_pred]"
   ]
  },
  {
   "cell_type": "code",
   "execution_count": 92,
   "metadata": {},
   "outputs": [
    {
     "name": "stdout",
     "output_type": "stream",
     "text": [
      "Accuracy:\t0.888\n",
      "Precision:\t0.4\n",
      "Recall:\t\t0.007\n",
      "ROC_AUC:\t0.6415\n"
     ]
    }
   ],
   "source": [
    "evaluate_model_predictions(y_pred, y_test)"
   ]
  },
  {
   "cell_type": "markdown",
   "metadata": {},
   "source": [
    "Let's try the re-sampled training data."
   ]
  },
  {
   "cell_type": "code",
   "execution_count": 93,
   "metadata": {},
   "outputs": [
    {
     "name": "stderr",
     "output_type": "stream",
     "text": [
      "C:\\Users\\Garrett\\Anaconda3\\lib\\site-packages\\sklearn\\linear_model\\_logistic.py:940: ConvergenceWarning: lbfgs failed to converge (status=1):\n",
      "STOP: TOTAL NO. of ITERATIONS REACHED LIMIT.\n",
      "\n",
      "Increase the number of iterations (max_iter) or scale the data as shown in:\n",
      "    https://scikit-learn.org/stable/modules/preprocessing.html\n",
      "Please also refer to the documentation for alternative solver options:\n",
      "    https://scikit-learn.org/stable/modules/linear_model.html#logistic-regression\n",
      "  extra_warning_msg=_LOGISTIC_SOLVER_CONVERGENCE_MSG)\n"
     ]
    },
    {
     "data": {
      "text/plain": [
       "LogisticRegression(C=1.0, class_weight=None, dual=False, fit_intercept=True,\n",
       "                   intercept_scaling=1, l1_ratio=None, max_iter=100,\n",
       "                   multi_class='auto', n_jobs=None, penalty='l2',\n",
       "                   random_state=None, solver='lbfgs', tol=0.0001, verbose=0,\n",
       "                   warm_start=False)"
      ]
     },
     "execution_count": 93,
     "metadata": {},
     "output_type": "execute_result"
    }
   ],
   "source": [
    "logreg.fit(X_res, y_res)"
   ]
  },
  {
   "cell_type": "code",
   "execution_count": 94,
   "metadata": {},
   "outputs": [
    {
     "name": "stdout",
     "output_type": "stream",
     "text": [
      "Accuracy:\t0.6277\n",
      "Precision:\t0.1679\n",
      "Recall:\t\t0.5905\n",
      "ROC_AUC:\t0.6457\n"
     ]
    }
   ],
   "source": [
    "y_pred = logreg.predict_proba(X_test)\n",
    "y_pred = [p[1] for p in y_pred]\n",
    "\n",
    "evaluate_model_predictions(y_pred, y_test)"
   ]
  },
  {
   "cell_type": "markdown",
   "metadata": {},
   "source": [
    "# Part 3 - Summary and Conclusion"
   ]
  },
  {
   "cell_type": "code",
   "execution_count": 95,
   "metadata": {},
   "outputs": [],
   "source": [
    "# results taken from evaluations above\n",
    "results = pd.DataFrame({'Model': ['LightGBM', 'TensorFlow', 'TensorFlow - Resampled', 'LogisticRegression', 'LogisticRegression - Resampled'], \n",
    "                        'Accuracy': [.8889, .8791, .743, .888, .6277],\n",
    "                        'Precision': [1, .2759, .1721, .4, .1679],\n",
    "                        'Recall': [.0044, .0515, .3421, .007, .5905], \n",
    "                        'AUC': [.6728, .5711, .5991, .6415, .6457]})"
   ]
  },
  {
   "cell_type": "code",
   "execution_count": 96,
   "metadata": {},
   "outputs": [
    {
     "data": {
      "text/html": [
       "<div>\n",
       "<style scoped>\n",
       "    .dataframe tbody tr th:only-of-type {\n",
       "        vertical-align: middle;\n",
       "    }\n",
       "\n",
       "    .dataframe tbody tr th {\n",
       "        vertical-align: top;\n",
       "    }\n",
       "\n",
       "    .dataframe thead th {\n",
       "        text-align: right;\n",
       "    }\n",
       "</style>\n",
       "<table border=\"1\" class=\"dataframe\">\n",
       "  <thead>\n",
       "    <tr style=\"text-align: right;\">\n",
       "      <th></th>\n",
       "      <th>Model</th>\n",
       "      <th>Accuracy</th>\n",
       "      <th>Precision</th>\n",
       "      <th>Recall</th>\n",
       "      <th>AUC</th>\n",
       "    </tr>\n",
       "  </thead>\n",
       "  <tbody>\n",
       "    <tr>\n",
       "      <td>0</td>\n",
       "      <td>LightGBM</td>\n",
       "      <td>0.8889</td>\n",
       "      <td>1.0000</td>\n",
       "      <td>0.0044</td>\n",
       "      <td>0.6728</td>\n",
       "    </tr>\n",
       "    <tr>\n",
       "      <td>1</td>\n",
       "      <td>TensorFlow</td>\n",
       "      <td>0.8791</td>\n",
       "      <td>0.2759</td>\n",
       "      <td>0.0515</td>\n",
       "      <td>0.5711</td>\n",
       "    </tr>\n",
       "    <tr>\n",
       "      <td>2</td>\n",
       "      <td>TensorFlow - Resampled</td>\n",
       "      <td>0.7430</td>\n",
       "      <td>0.1721</td>\n",
       "      <td>0.3421</td>\n",
       "      <td>0.5991</td>\n",
       "    </tr>\n",
       "    <tr>\n",
       "      <td>3</td>\n",
       "      <td>LogisticRegression</td>\n",
       "      <td>0.8880</td>\n",
       "      <td>0.4000</td>\n",
       "      <td>0.0070</td>\n",
       "      <td>0.6415</td>\n",
       "    </tr>\n",
       "    <tr>\n",
       "      <td>4</td>\n",
       "      <td>LogisticRegression - Resampled</td>\n",
       "      <td>0.6277</td>\n",
       "      <td>0.1679</td>\n",
       "      <td>0.5905</td>\n",
       "      <td>0.6457</td>\n",
       "    </tr>\n",
       "  </tbody>\n",
       "</table>\n",
       "</div>"
      ],
      "text/plain": [
       "                            Model  Accuracy  Precision  Recall     AUC\n",
       "0                        LightGBM    0.8889     1.0000  0.0044  0.6728\n",
       "1                      TensorFlow    0.8791     0.2759  0.0515  0.5711\n",
       "2          TensorFlow - Resampled    0.7430     0.1721  0.3421  0.5991\n",
       "3              LogisticRegression    0.8880     0.4000  0.0070  0.6415\n",
       "4  LogisticRegression - Resampled    0.6277     0.1679  0.5905  0.6457"
      ]
     },
     "execution_count": 96,
     "metadata": {},
     "output_type": "execute_result"
    }
   ],
   "source": [
    "results"
   ]
  },
  {
   "cell_type": "code",
   "execution_count": 100,
   "metadata": {},
   "outputs": [
    {
     "data": {
      "text/plain": [
       "<BarContainer object of 5 artists>"
      ]
     },
     "execution_count": 100,
     "metadata": {},
     "output_type": "execute_result"
    },
    {
     "data": {
      "image/png": "[encoded data removed]",
      "text/plain": [
       "<Figure size 432x288 with 1 Axes>"
      ]
     },
     "metadata": {
      "needs_background": "light"
     },
     "output_type": "display_data"
    }
   ],
   "source": [
    "### Accuracy\n",
    "plt.ylim(0, 1)\n",
    "plt.xticks(rotation=60)\n",
    "plt.bar(results['Model'], results['Accuracy'])"
   ]
  },
  {
   "cell_type": "code",
   "execution_count": 102,
   "metadata": {},
   "outputs": [
    {
     "data": {
      "text/plain": [
       "<BarContainer object of 5 artists>"
      ]
     },
     "execution_count": 102,
     "metadata": {},
     "output_type": "execute_result"
    },
    {
     "data": {
      "image/png": "[encoded data removed]",
      "text/plain": [
       "<Figure size 432x288 with 1 Axes>"
      ]
     },
     "metadata": {
      "needs_background": "light"
     },
     "output_type": "display_data"
    }
   ],
   "source": [
    "### Precision\n",
    "plt.ylim(0, 1)\n",
    "plt.xticks(rotation=60)\n",
    "plt.bar(results['Model'], results['Precision'])"
   ]
  },
  {
   "cell_type": "code",
   "execution_count": 103,
   "metadata": {},
   "outputs": [
    {
     "data": {
      "text/plain": [
       "<BarContainer object of 5 artists>"
      ]
     },
     "execution_count": 103,
     "metadata": {},
     "output_type": "execute_result"
    },
    {
     "data": {
      "image/png": "[encoded data removed]",
      "text/plain": [
       "<Figure size 432x288 with 1 Axes>"
      ]
     },
     "metadata": {
      "needs_background": "light"
     },
     "output_type": "display_data"
    }
   ],
   "source": [
    "### Recall\n",
    "plt.ylim(0, 1)\n",
    "plt.xticks(rotation=60)\n",
    "plt.bar(results['Model'], results['Recall'])"
   ]
  },
  {
   "cell_type": "code",
   "execution_count": 106,
   "metadata": {},
   "outputs": [
    {
     "data": {
      "text/plain": [
       "<BarContainer object of 5 artists>"
      ]
     },
     "execution_count": 106,
     "metadata": {},
     "output_type": "execute_result"
    },
    {
     "data": {
      "image/png": "[encoded data removed]",
      "text/plain": [
       "<Figure size 432x288 with 1 Axes>"
      ]
     },
     "metadata": {
      "needs_background": "light"
     },
     "output_type": "display_data"
    }
   ],
   "source": [
    "### ROC-AUC\n",
    "plt.ylim(0, 1)\n",
    "plt.xticks(rotation=60)\n",
    "plot = plt.bar(results['Model'], results['AUC'])\n",
    "plot"
   ]
  }
 ],
 "metadata": {
  "kernelspec": {
   "display_name": "Python 3",
   "language": "python",
   "name": "python3"
  },
  "language_info": {
   "codemirror_mode": {
    "name": "ipython",
    "version": 3
   },
   "file_extension": ".py",
   "mimetype": "text/x-python",
   "name": "python",
   "nbconvert_exporter": "python",
   "pygments_lexer": "ipython3",
   "version": "3.7.4"
  }
 },
 "nbformat": 4,
 "nbformat_minor": 2
}
